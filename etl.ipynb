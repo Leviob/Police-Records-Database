{
 "cells": [
  {
   "cell_type": "markdown",
   "id": "85fe5d68-ef28-46d4-a3ee-e19d8ba5ffe9",
   "metadata": {},
   "source": [
    "# Creating SQL Database\n",
    "Building on our initial exploration, we can ingest and clean the data using the techniques from `exploration.ipynb`.\n",
    "Rather than using a static CSV file, let's download the most recent CSV files for the `Crisis`, `Use of Force`, and `Crime` datasets. \n"
   ]
  },
  {
   "cell_type": "code",
   "execution_count": 1,
   "id": "86cde9a4-4114-49e8-8f20-a07975efc2f0",
   "metadata": {},
   "outputs": [],
   "source": [
    "import pandas as pd\n",
    "pd.set_option('display.max_columns', None)\n",
    "pd.set_option('display.max_rows', 500)\n"
   ]
  },
  {
   "cell_type": "code",
   "execution_count": 2,
   "id": "c221a7cc-39a9-4382-ba3e-b440f79fc19b",
   "metadata": {},
   "outputs": [],
   "source": [
    "crisis_df = pd.read_csv('https://data.seattle.gov/resource/i2q9-thny.csv?$limit=100000')\n",
    "crisis_df.replace({'-': None}, inplace=True)"
   ]
  },
  {
   "cell_type": "code",
   "execution_count": 3,
   "id": "e90eca59-c731-47fb-8296-bd5454d7484c",
   "metadata": {},
   "outputs": [],
   "source": [
    "uof_df = pd.read_csv('https://data.seattle.gov/resource/ppi5-g2bj.csv?$limit=100000')"
   ]
  },
  {
   "cell_type": "code",
   "execution_count": 4,
   "id": "027a356c-c547-4f8b-a0d3-c85e0efbe3ed",
   "metadata": {},
   "outputs": [],
   "source": [
    "crime_df = pd.read_csv('https://data.seattle.gov/resource/tazs-3rd5.csv?$limit=1500000', parse_dates=['offense_start_datetime', 'report_datetime'])"
   ]
  },
  {
   "cell_type": "code",
   "execution_count": 5,
   "id": "aafef2d8-6c06-43a7-bd6c-b9fc8ed72b42",
   "metadata": {},
   "outputs": [],
   "source": [
    "# import sqlite3\n",
    "# conn = sqlite3.connect('police-records.db')\n",
    "# data = crisis_df\n",
    "# data.to_sql('Crisis', conn, if_exists='replace', index=False)"
   ]
  },
  {
   "cell_type": "code",
   "execution_count": 6,
   "id": "5cd42ce6-239d-4d60-89bb-e32556a3d831",
   "metadata": {},
   "outputs": [
    {
     "data": {
      "text/plain": [
       "1007829"
      ]
     },
     "execution_count": 6,
     "metadata": {},
     "output_type": "execute_result"
    }
   ],
   "source": [
    "import sqlite3\n",
    "conn = sqlite3.connect('police-records.db')\n",
    "data = crisis_df\n",
    "data.to_sql('crisis', conn, if_exists='replace', index=False)\n",
    "data = uof_df\n",
    "data.to_sql('uof', conn, if_exists='replace', index=False)\n",
    "data = crime_df\n",
    "data.to_sql('crime', conn, if_exists='replace', index=False)\n"
   ]
  },
  {
   "cell_type": "code",
   "execution_count": 7,
   "id": "063fd55e-4ba2-4a2b-818a-78fe23ec74ff",
   "metadata": {},
   "outputs": [
    {
     "name": "stdout",
     "output_type": "stream",
     "text": [
      "   COUNT(*)\n",
      "0     76247\n"
     ]
    }
   ],
   "source": [
    "q = '''SELECT COUNT(*)\n",
    "FROM crisis'''\n",
    "print(pd.read_sql(q, conn))"
   ]
  },
  {
   "cell_type": "markdown",
   "id": "f8cce10e-c66e-4762-8ead-1c89ad8ab4a5",
   "metadata": {},
   "source": [
    "The crisis dataset website warns us in many places that there is a one to many relationship between the disposition and the event. This means to get accurate counts of the crisis events we need to count the distinct `template_id` values, not rows. "
   ]
  },
  {
   "cell_type": "code",
   "execution_count": 8,
   "id": "880af247-b236-43ac-98fc-7f36a647f762",
   "metadata": {},
   "outputs": [
    {
     "name": "stdout",
     "output_type": "stream",
     "text": [
      "   Counts\n",
      "0   75158\n"
     ]
    }
   ],
   "source": [
    "q = '''SELECT COUNT(DISTINCT template_id) Counts\n",
    "FROM crisis'''\n",
    "print(pd.read_sql(q, conn))"
   ]
  },
  {
   "cell_type": "markdown",
   "id": "6524a20e-41d0-451c-9e6f-70a27f306f49",
   "metadata": {},
   "source": [
    "We can check that all our tables in the database look correct:"
   ]
  },
  {
   "cell_type": "code",
   "execution_count": 9,
   "id": "71d3d790-25c1-4705-afe6-b7737cfda1e1",
   "metadata": {},
   "outputs": [
    {
     "name": "stdout",
     "output_type": "stream",
     "text": [
      "   template_id        reported_date reported_time        occured_date_time  \\\n",
      "0        43662  2015-05-15T00:00:00      10:22:00  2015-05-15T21:33:28.000   \n",
      "1        43479  2015-05-15T00:00:00      11:21:00  2015-05-15T18:10:23.000   \n",
      "2        43946  2015-05-15T00:00:00      10:14:00  2015-05-15T18:47:32.000   \n",
      "3        43832  2015-05-16T00:00:00      01:24:00  2015-05-16T10:14:07.000   \n",
      "4        43897  2015-05-16T00:00:00      03:52:00  1900-01-01T00:00:00.000   \n",
      "\n",
      "  call_type                                initial_call_type  \\\n",
      "0    ONVIEW  HAZ - POTENTIAL THRT TO PHYS SAFETY (NO HAZMAT)   \n",
      "1       911                 DISTURBANCE, MISCELLANEOUS/OTHER   \n",
      "2       911     SUICIDE - IP/JO SUICIDAL PERSON AND ATTEMPTS   \n",
      "3       911                 DISTURBANCE, MISCELLANEOUS/OTHER   \n",
      "4      None                                             None   \n",
      "\n",
      "                final_call_type                     disposition  \\\n",
      "0  --CRISIS COMPLAINT - GENERAL  No Action Possible / Necessary   \n",
      "1  --CRISIS COMPLAINT - GENERAL        Emergent Detention / ITA   \n",
      "2  --CRISIS COMPLAINT - GENERAL        Emergent Detention / ITA   \n",
      "3         --DISTURBANCE - OTHER              Resources Declined   \n",
      "4                          None              Mobile Crisis Team   \n",
      "\n",
      "  use_of_force_indicator subject_veteran_indicator cit_officer_requested  \\\n",
      "0                      N                         N                     N   \n",
      "1                      N                         N                     N   \n",
      "2                      N                         N                     Y   \n",
      "3                      N                         N                     N   \n",
      "4                      N                         N                     Y   \n",
      "\n",
      "  cit_officer_dispatched cit_officer_arrived officer_id officer_gender  \\\n",
      "0                      N                   Y       7654              M   \n",
      "1                      N                   Y       7754              M   \n",
      "2                      Y                   Y       6115              M   \n",
      "3                      N                   Y       7634              M   \n",
      "4                      Y                   Y       4980              F   \n",
      "\n",
      "  officer_race  officer_year_of_birth  officer_years_of_experience  \\\n",
      "0        White                   1984                            8   \n",
      "1        White                   1981                            6   \n",
      "2        White                   1968                           39   \n",
      "3        White                   1977                            2   \n",
      "4        White                   1962                           30   \n",
      "\n",
      "  cit_certified_indicator officer_bureau_desc officer_precinct_desc  \\\n",
      "0                       N   OPERATIONS BUREAU              WEST PCT   \n",
      "1                       N   OPERATIONS BUREAU              WEST PCT   \n",
      "2                       N   OPERATIONS BUREAU             NORTH PCT   \n",
      "3                       N   OPERATIONS BUREAU              EAST PCT   \n",
      "4                       N                None                  None   \n",
      "\n",
      "                      officer_squad_desc precinct   sector  beat  \n",
      "0                  WEST PCT 3RD W - KING     West     KING    K1  \n",
      "1            WEST PCT 2ND W - K/Q RELIEF     West     KING    K3  \n",
      "2                  NORTH PCT 2ND W - BOY    North  LINCOLN    L2  \n",
      "3  EAST PCT 1ST W - E/G RELIEF (CHARLIE)     East  CHARLIE    C3  \n",
      "4                                   None     None     None  None  \n"
     ]
    }
   ],
   "source": [
    "q = '''SELECT *\n",
    "FROM crisis\n",
    "LIMIT 5\n",
    "OFFSET 10'''\n",
    "print(pd.read_sql(q, conn))"
   ]
  },
  {
   "cell_type": "markdown",
   "id": "4b22ed66-cf05-462f-ae3e-1ba7e3bbd92e",
   "metadata": {},
   "source": [
    "Let's see what the most frequent crisis calls are. "
   ]
  },
  {
   "cell_type": "code",
   "execution_count": 10,
   "id": "649df4d6-37e4-434e-bd39-baf6b4768c9e",
   "metadata": {},
   "outputs": [
    {
     "name": "stdout",
     "output_type": "stream",
     "text": [
      "                uniqueid  incident_num           incident_type  \\\n",
      "0  2014UOF-0011-1233-223           284  Level 2 - Use of Force   \n",
      "1  2014UOF-0012-1464-223           271  Level 2 - Use of Force   \n",
      "2   2014UOF-0013-147-245           292  Level 1 - Use of Force   \n",
      "3  2014UOF-0014-1202-245           293  Level 1 - Use of Force   \n",
      "4  2014UOF-0015-1031-169           219  Level 1 - Use of Force   \n",
      "\n",
      "         occured_date_time precinct   sector beat  officer_id  subject_id  \\\n",
      "0  2014-06-11T02:15:00.000     West     KING   K3        1640         223   \n",
      "1  2014-06-11T02:15:00.000     West     KING   K3        1141         223   \n",
      "2  2014-06-17T18:21:00.000     East   GEORGE   G3        1542         245   \n",
      "3  2014-06-17T18:30:00.000     East   GEORGE   G3        1635         245   \n",
      "4  2014-05-30T23:23:00.000     East  CHARLIE   C1        1690         169   \n",
      "\n",
      "                subject_race subject_gender  \n",
      "0              Not Specified           Male  \n",
      "1              Not Specified           Male  \n",
      "2  Black or African American           Male  \n",
      "3  Black or African American           Male  \n",
      "4                      White           Male  \n"
     ]
    }
   ],
   "source": [
    "q = '''SELECT *\n",
    "FROM uof\n",
    "LIMIT 5\n",
    "OFFSET 10'''\n",
    "print(pd.read_sql(q, conn))"
   ]
  },
  {
   "cell_type": "code",
   "execution_count": 11,
   "id": "3e6caa53-d5ed-4e7c-b6dc-b6177277f5a4",
   "metadata": {},
   "outputs": [
    {
     "name": "stdout",
     "output_type": "stream",
     "text": [
      "  report_number   offense_id offense_start_datetime     offense_end_datetime  \\\n",
      "0   2020-044038  12604928711    2020-02-04 20:57:00                     None   \n",
      "1   2020-043971  12604927228    2019-02-04 00:00:00  2020-02-04T08:00:00.000   \n",
      "2   2020-043805  12604929082    2020-01-30 19:30:00                     None   \n",
      "3   2020-043805  12605193820    2020-01-30 19:30:00                     None   \n",
      "4   2020-043518  12604909238    2020-02-04 07:30:00  2020-02-04T10:00:00.000   \n",
      "\n",
      "       report_datetime group_a_b crime_against_category  offense_parent_group  \\\n",
      "0  2020-02-04 21:20:35         A               PROPERTY         LARCENY-THEFT   \n",
      "1  2020-02-04 21:18:52         A               PROPERTY        FRAUD OFFENSES   \n",
      "2  2020-02-04 21:14:00         A               PROPERTY         LARCENY-THEFT   \n",
      "3  2020-02-04 21:14:00         A                 PERSON  KIDNAPPING/ABDUCTION   \n",
      "4  2020-02-04 20:59:01         A               PROPERTY         LARCENY-THEFT   \n",
      "\n",
      "                    offense offense_code precinct sector beat  \\\n",
      "0               Shoplifting          23C        E      E   E2   \n",
      "1                Wire Fraud          26E        N      U   U2   \n",
      "2       Theft From Building          23D        S      R   R3   \n",
      "3      Kidnapping/Abduction          100        S      R   R3   \n",
      "4  Theft From Motor Vehicle          23F        S      R   R1   \n",
      "\n",
      "                mcpp        _100_block_address   longitude   latitude  \n",
      "0       CAPITOL HILL    15XX BLOCK OF BROADWAY -122.320790  47.614655  \n",
      "1         UNIVERSITY  45XX BLOCK OF 7TH AVE NE -122.320720  47.662473  \n",
      "2      COLUMBIA CITY                      None    0.000000   0.000000  \n",
      "3      COLUMBIA CITY                      None    0.000000   0.000000  \n",
      "4  NORTH BEACON HILL  19XX BLOCK OF 13TH AVE S -122.315977  47.585956  \n"
     ]
    }
   ],
   "source": [
    "q = '''SELECT *\n",
    "FROM crime\n",
    "LIMIT 5\n",
    "OFFSET 10'''\n",
    "print(pd.read_sql(q, conn))"
   ]
  },
  {
   "cell_type": "markdown",
   "id": "cc1bfbb1-8814-4e1f-a112-fb95703f4f88",
   "metadata": {},
   "source": [
    "# Querying the database\n",
    "Now that our database is created, we can run various queries to try to extract conclusions."
   ]
  },
  {
   "cell_type": "markdown",
   "id": "f79db1c3-76df-4df2-a340-6fd81c47d1eb",
   "metadata": {},
   "source": [
    "What are the most common crisis call types?"
   ]
  },
  {
   "cell_type": "code",
   "execution_count": 12,
   "id": "6ddc841e-2f66-47b1-bba0-4899471ba018",
   "metadata": {},
   "outputs": [
    {
     "name": "stdout",
     "output_type": "stream",
     "text": [
      "                                  initial_call_type  Counts\n",
      "0             PERSON IN BEHAVIORAL/EMOTIONAL CRISIS   13753\n",
      "1      SUICIDE - IP/JO SUICIDAL PERSON AND ATTEMPTS   13349\n",
      "2                  DISTURBANCE, MISCELLANEOUS/OTHER    6564\n",
      "3                                              None    5614\n",
      "4            SUSPICIOUS PERSON, VEHICLE OR INCIDENT    2573\n",
      "5                           SERVICE - WELFARE CHECK    2254\n",
      "6             SUICIDE, SUICIDAL PERSON AND ATTEMPTS    2188\n",
      "7                                          TRESPASS    2085\n",
      "8                  DIST - IP/JO - DV DIST - NO ASLT    2000\n",
      "9     THREATS (INCLS IN-PERSON/BY PHONE/IN WRITING)    1810\n",
      "10   ASLT - IP/JO - WITH OR W/O WPNS (NO SHOOTINGS)    1633\n",
      "11           SFD - ASSIST ON FIRE OR MEDIC RESPONSE    1627\n",
      "12                              DIST - DV - NO ASLT    1623\n",
      "13            ASSIST OTHER AGENCY - ROUTINE SERVICE    1481\n",
      "14  HAZ - POTENTIAL THRT TO PHYS SAFETY (NO HAZMAT)    1255\n",
      "15        ASLT - WITH OR W/O WEAPONS (NO SHOOTINGS)    1141\n",
      "16            UNKNOWN - COMPLAINT OF UNKNOWN NATURE    1004\n",
      "17                                ASLT - IP/JO - DV     922\n",
      "18                 OVERDOSE - DRUG RELATED CASUALTY     892\n",
      "19                     LEWD -  (EXPOSING, FLASHING)     642\n",
      "20   WEAPN-IP/JO-GUN,DEADLY WPN (NO THRT/ASLT/DIST)     634\n",
      "21        HARAS - NO BIAS, THREATS OR MALICIOUSNESS     629\n",
      "22                                PROPERTY - DAMAGE     605\n",
      "23       SUSPICIOUS STOP - OFFICER INITIATED ONVIEW     582\n",
      "24       BURG - IP/JO - RES (INCL UNOCC STRUCTURES)     569\n"
     ]
    }
   ],
   "source": [
    "q = '''SELECT initial_call_type, count(*) Counts \n",
    "FROM crisis\n",
    "GROUP BY initial_call_type\n",
    "ORDER BY Counts DESC\n",
    "LIMIT 25\n",
    "'''\n",
    "print(pd.read_sql(q, conn))"
   ]
  },
  {
   "cell_type": "markdown",
   "id": "9f8edcae-022d-496e-a48a-6736f1eb8bfa",
   "metadata": {},
   "source": [
    "How many crisis calls each year had a CIT officer requested, but not arrived?"
   ]
  },
  {
   "cell_type": "code",
   "execution_count": 13,
   "id": "efbfa3d2-ebf9-4606-a079-b1e7896a8ba5",
   "metadata": {},
   "outputs": [
    {
     "name": "stdout",
     "output_type": "stream",
     "text": [
      "   Year  No CIT\n",
      "0  2015     661\n",
      "1  2016     796\n",
      "2  2017     716\n",
      "3  2018     774\n",
      "4  2019     198\n"
     ]
    }
   ],
   "source": [
    "q = '''SELECT strftime('%Y', reported_date) Year, COUNT(DISTINCT template_id) \"No CIT\" \n",
    "FROM crisis\n",
    "WHERE cit_officer_requested = \"Y\" AND\n",
    "cit_officer_arrived = \"N\"\n",
    "GROUP BY Year\n",
    "ORDER BY Year\n",
    "'''\n",
    "print(pd.read_sql(q, conn))"
   ]
  },
  {
   "cell_type": "markdown",
   "id": "11750854-032c-4626-ab08-4ff8225b312c",
   "metadata": {},
   "source": [
    "Let's compare the crisis counts per beat with use of force per beat. "
   ]
  },
  {
   "cell_type": "code",
   "execution_count": 14,
   "id": "1f0f0753-ec46-4742-bc4d-b17566f70daf",
   "metadata": {},
   "outputs": [
    {
     "name": "stdout",
     "output_type": "stream",
     "text": [
      "   beat  Crisis Count  Use of Force Count      Ratio\n",
      "0    K3          2621                 514   5.099222\n",
      "1    E3          2520                 265   9.509434\n",
      "2    E1          2439                 365   6.682192\n",
      "3    K2          2395                 521   4.596929\n",
      "4    K1          2036                 492   4.138211\n",
      "5    D2          1942                 472   4.114407\n",
      "6    G1          1876                 229   8.192140\n",
      "7    N3          1841                 469   3.925373\n",
      "8    D3          1839                 244   7.536885\n",
      "9    D1          1825                 357   5.112045\n",
      "10   E2          1693                1117   1.515667\n",
      "11   Q3          1638                 239   6.853556\n",
      "12   R2          1525                 420   3.630952\n",
      "13   B1          1519                 210   7.233333\n",
      "14   U2          1478                 297   4.976431\n",
      "15   M1          1435                 274   5.237226\n",
      "16   N2          1433                 321   4.464174\n",
      "17   L3          1403                 205   6.843902\n",
      "18   G2          1380                 235   5.872340\n",
      "19   L1          1364                 224   6.089286\n",
      "20   B3          1361                 150   9.073333\n",
      "21   F1          1361                 148   9.195946\n",
      "22   M2          1346                 353   3.813031\n",
      "23   U1          1344                 209   6.430622\n",
      "24   W2          1320                  92  14.347826\n",
      "25   U3          1318                 201   6.557214\n",
      "26   Q2          1266                 168   7.535714\n",
      "27   N1          1265                 134   9.440299\n",
      "28   C1          1252                 170   7.364706\n",
      "29   G3          1239                 233   5.317597\n",
      "30   W1          1227                 128   9.585938\n",
      "31   M3          1196                 392   3.051020\n",
      "32   C2          1172                 105  11.161905\n",
      "33   L2          1150                 221   5.203620\n",
      "34   B2          1099                 182   6.038462\n",
      "35   W3          1087                 128   8.492188\n",
      "36   R1          1044                 270   3.866667\n",
      "37   R3          1026                 214   4.794393\n",
      "38   J1          1025                 173   5.924855\n",
      "39   F2          1010                 182   5.549451\n",
      "40   S1          1007                 367   2.743869\n",
      "41   J3           984                 152   6.473684\n",
      "42   C3           924                 154   6.000000\n",
      "43   S2           856                 332   2.578313\n",
      "44   J2           850                 127   6.692913\n",
      "45   F3           828                 155   5.341935\n",
      "46   Q1           820                 114   7.192982\n",
      "47   S3           816                 274   2.978102\n",
      "48   O1           697                 243   2.868313\n",
      "49   O3           567                 159   3.566038\n",
      "50   O2           466                 157   2.968153\n"
     ]
    }
   ],
   "source": [
    "q = '''SELECT beat, \"Crisis Count\", \"Use of Force Count\", \"Crisis Count\"/1.0/\"Use of Force Count\" Ratio FROM (\n",
    "SELECT uof.beat, COUNT(DISTINCT uniqueid) \"Use of Force Count\", COUNT(DISTINCT template_id) \"Crisis Count\"\n",
    "FROM uof\n",
    "JOIN crisis ON uof.beat = crisis.beat\n",
    "WHERE uof.beat != \"-\" AND uof.beat != \"99\"\n",
    "GROUP BY uof.beat\n",
    ") sub\n",
    "ORDER BY \"Crisis Count\" DESC\n",
    "'''\n",
    "print(pd.read_sql(q, conn))"
   ]
  },
  {
   "cell_type": "markdown",
   "id": "14ff16f7-1fbf-4e1d-a9de-28e4aeadf301",
   "metadata": {},
   "source": [
    "What are the most common crimes commited in Northgate?"
   ]
  },
  {
   "cell_type": "code",
   "execution_count": 15,
   "id": "08f5d2cb-7111-4a4a-a06a-f01ee6b6b01b",
   "metadata": {},
   "outputs": [
    {
     "name": "stdout",
     "output_type": "stream",
     "text": [
      "                                  Crime Type  Count\n",
      "0                              LARCENY-THEFT  23341\n",
      "1                           ASSAULT OFFENSES   6984\n",
      "2                 BURGLARY/BREAKING&ENTERING   5307\n",
      "3   DESTRUCTION/DAMAGE/VANDALISM OF PROPERTY   4275\n",
      "4                        MOTOR VEHICLE THEFT   3777\n",
      "5                             FRAUD OFFENSES   3335\n",
      "6                  TRESPASS OF REAL PROPERTY   1785\n",
      "7                      PROSTITUTION OFFENSES   1712\n",
      "8                                    ROBBERY   1420\n",
      "9                     DRUG/NARCOTIC OFFENSES   1295\n",
      "10               DRIVING UNDER THE INFLUENCE    891\n",
      "11               FAMILY OFFENSES, NONVIOLENT    584\n",
      "12                  STOLEN PROPERTY OFFENSES    465\n",
      "13                     WEAPON LAW VIOLATIONS    419\n",
      "14                    COUNTERFEITING/FORGERY    415\n"
     ]
    }
   ],
   "source": [
    "q = '''SELECT offense_parent_group \"Crime Type\", COUNT(DISTINCT offense_id) Count\n",
    "FROM crime \n",
    "WHERE mcpp = \"NORTHGATE\"\n",
    "GROUP BY \"Crime Type\"\n",
    "ORDER BY Count DESC\n",
    "LIMIT 15\n",
    "'''\n",
    "print(pd.read_sql(q, conn))"
   ]
  },
  {
   "cell_type": "code",
   "execution_count": null,
   "id": "53e7b41a-3abb-4110-a262-5f4262b203ba",
   "metadata": {},
   "outputs": [],
   "source": []
  }
 ],
 "metadata": {
  "kernelspec": {
   "display_name": "Python 3 (ipykernel)",
   "language": "python",
   "name": "python3"
  },
  "language_info": {
   "codemirror_mode": {
    "name": "ipython",
    "version": 3
   },
   "file_extension": ".py",
   "mimetype": "text/x-python",
   "name": "python",
   "nbconvert_exporter": "python",
   "pygments_lexer": "ipython3",
   "version": "3.8.10"
  }
 },
 "nbformat": 4,
 "nbformat_minor": 5
}
