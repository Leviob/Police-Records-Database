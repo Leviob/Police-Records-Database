{
 "cells": [
  {
   "cell_type": "markdown",
   "id": "85fe5d68-ef28-46d4-a3ee-e19d8ba5ffe9",
   "metadata": {},
   "source": [
    "# Creating SQL Database\n",
    "Building on our initial exploration, we can ingest and clean the data using the techniques from `exploration.ipynb`.\n",
    "Rather than using a static CSV file, let's download the most recent CSV files for the `Crisis`, `Use of Force`, and `Crime` datasets. \n"
   ]
  },
  {
   "cell_type": "code",
   "execution_count": 25,
   "id": "86cde9a4-4114-49e8-8f20-a07975efc2f0",
   "metadata": {},
   "outputs": [],
   "source": [
    "import pandas as pd\n",
    "pd.set_option('display.max_columns', None)\n",
    "pd.set_option('display.max_rows', 500)\n"
   ]
  },
  {
   "cell_type": "code",
   "execution_count": null,
   "id": "c221a7cc-39a9-4382-ba3e-b440f79fc19b",
   "metadata": {},
   "outputs": [],
   "source": [
    "crisis_df = pd.read_csv('https://data.seattle.gov/resource/i2q9-thny.csv?$limit=100000')\n",
    "crisis_df.replace({'-': None}, inplace=True)"
   ]
  },
  {
   "cell_type": "code",
   "execution_count": 2,
   "id": "e90eca59-c731-47fb-8296-bd5454d7484c",
   "metadata": {},
   "outputs": [],
   "source": [
    "uof_df = pd.read_csv('https://data.seattle.gov/resource/ppi5-g2bj.csv?$limit=100000')"
   ]
  },
  {
   "cell_type": "code",
   "execution_count": 3,
   "id": "027a356c-c547-4f8b-a0d3-c85e0efbe3ed",
   "metadata": {},
   "outputs": [],
   "source": [
    "crime_df = pd.read_csv('https://data.seattle.gov/resource/tazs-3rd5.csv?$limit=1500000', parse_dates=['offense_start_datetime', 'report_datetime'])"
   ]
  },
  {
   "cell_type": "code",
   "execution_count": 4,
   "id": "aafef2d8-6c06-43a7-bd6c-b9fc8ed72b42",
   "metadata": {},
   "outputs": [],
   "source": [
    "# import sqlite3\n",
    "# conn = sqlite3.connect('police-records.db')\n",
    "# data = crisis_df\n",
    "# data.to_sql('Crisis', conn, if_exists='replace', index=False)"
   ]
  },
  {
   "cell_type": "code",
   "execution_count": 6,
   "id": "5cd42ce6-239d-4d60-89bb-e32556a3d831",
   "metadata": {},
   "outputs": [
    {
     "data": {
      "text/plain": [
       "1007651"
      ]
     },
     "execution_count": 6,
     "metadata": {},
     "output_type": "execute_result"
    }
   ],
   "source": [
    "import sqlite3\n",
    "conn = sqlite3.connect('police-records.db')\n",
    "data = crisis_df\n",
    "data.to_sql('crisis', conn, if_exists='replace', index=False)\n",
    "data = uof_df\n",
    "data.to_sql('uof', conn, if_exists='replace', index=False)\n",
    "data = crime_df\n",
    "data.to_sql('crime', conn, if_exists='replace', index=False)\n"
   ]
  },
  {
   "cell_type": "code",
   "execution_count": 7,
   "id": "063fd55e-4ba2-4a2b-818a-78fe23ec74ff",
   "metadata": {},
   "outputs": [
    {
     "name": "stdout",
     "output_type": "stream",
     "text": [
      "   COUNT(*)\n",
      "0     76214\n"
     ]
    }
   ],
   "source": [
    "q = '''SELECT COUNT(*)\n",
    "FROM crisis'''\n",
    "print(pd.read_sql(q, conn))"
   ]
  },
  {
   "cell_type": "markdown",
   "id": "f8cce10e-c66e-4762-8ead-1c89ad8ab4a5",
   "metadata": {},
   "source": [
    "The crisis dataset website warns us in many places that there is a one to many relationship between the disposition and the event. This means to get accurate counts of the crisis events we need to count the distinct `template_id` values, not rows. "
   ]
  },
  {
   "cell_type": "code",
   "execution_count": 9,
   "id": "880af247-b236-43ac-98fc-7f36a647f762",
   "metadata": {},
   "outputs": [
    {
     "name": "stdout",
     "output_type": "stream",
     "text": [
      "   Counts\n",
      "0   75125\n"
     ]
    }
   ],
   "source": [
    "q = '''SELECT COUNT(DISTINCT template_id) Counts\n",
    "FROM crisis'''\n",
    "print(pd.read_sql(q, conn))"
   ]
  },
  {
   "cell_type": "markdown",
   "id": "6524a20e-41d0-451c-9e6f-70a27f306f49",
   "metadata": {},
   "source": [
    "We can check that all our tables in the database look correct:"
   ]
  },
  {
   "cell_type": "code",
   "execution_count": 10,
   "id": "71d3d790-25c1-4705-afe6-b7737cfda1e1",
   "metadata": {},
   "outputs": [
    {
     "name": "stdout",
     "output_type": "stream",
     "text": [
      "   template_id        reported_date reported_time        occured_date_time  \\\n",
      "0        43469  2015-05-15T00:00:00      03:57:00  2015-05-15T11:16:25.000   \n",
      "1        43992  2015-05-15T00:00:00      10:56:00  2015-05-15T15:52:13.000   \n",
      "2        57315  2015-05-15T00:00:00      08:30:00  2015-05-15T18:16:56.000   \n",
      "3        43929  2015-05-16T00:00:00      06:20:00  2015-05-16T17:29:10.000   \n",
      "4        43897  2015-05-16T00:00:00      03:52:00  1900-01-01T00:00:00.000   \n",
      "\n",
      "  call_type                                initial_call_type  \\\n",
      "0       911            PERSON IN BEHAVIORAL/EMOTIONAL CRISIS   \n",
      "1       911        THEFT (DOES NOT INCLUDE SHOPLIFT OR SVCS)   \n",
      "2       911  HAZ - POTENTIAL THRT TO PHYS SAFETY (NO HAZMAT)   \n",
      "3       911                          SERVICE - WELFARE CHECK   \n",
      "4      None                                             None   \n",
      "\n",
      "                final_call_type                         disposition  \\\n",
      "0  --CRISIS COMPLAINT - GENERAL                  Mobile Crisis Team   \n",
      "1           --THEFT - ALL OTHER  Geriatric Regional Assessment Team   \n",
      "2         --DISTURBANCE - OTHER                   Shelter Transport   \n",
      "3  --CRISIS COMPLAINT - GENERAL      No Action Possible / Necessary   \n",
      "4                          None                  Mobile Crisis Team   \n",
      "\n",
      "  use_of_force_indicator subject_veteran_indicator cit_officer_requested  \\\n",
      "0                      N                         N                     Y   \n",
      "1                      N                         N                     N   \n",
      "2                      N                         N                     N   \n",
      "3                      N                         N                     N   \n",
      "4                      N                         N                     Y   \n",
      "\n",
      "  cit_officer_dispatched cit_officer_arrived officer_id officer_gender  \\\n",
      "0                      Y                   N       7474              F   \n",
      "1                      N                   N       7785              M   \n",
      "2                      N                   Y       7666              F   \n",
      "3                      N                   N       4831              M   \n",
      "4                      Y                   Y       4980              F   \n",
      "\n",
      "        officer_race  officer_year_of_birth  officer_years_of_experience  \\\n",
      "0              White                   1969                            7   \n",
      "1  Two or More Races                   1988                            6   \n",
      "2              White                   1970                            2   \n",
      "3              White                   1961                           30   \n",
      "4              White                   1962                           30   \n",
      "\n",
      "  cit_certified_indicator            officer_bureau_desc  \\\n",
      "0                       N              OPERATIONS BUREAU   \n",
      "1                       N  PROFESSIONAL STANDARDS BUREAU   \n",
      "2                       N              OPERATIONS BUREAU   \n",
      "3                       N              OPERATIONS BUREAU   \n",
      "4                       N                           None   \n",
      "\n",
      "            officer_precinct_desc               officer_squad_desc   precinct  \\\n",
      "0                        EAST PCT          EAST PCT 2ND W - EDWARD       East   \n",
      "1  TRAINING AND EDUCATION SECTION  TRAINING - FIELD TRAINING SQUAD      North   \n",
      "2                        EAST PCT      EAST PCT 3RD W - E/G RELIEF       None   \n",
      "3                   SOUTHWEST PCT      SOUTHWEST PCT 2ND W - FRANK  SouthWest   \n",
      "4                            None                             None       None   \n",
      "\n",
      "   sector  beat  \n",
      "0  EDWARD    E1  \n",
      "1    JOHN    J3  \n",
      "2    None  None  \n",
      "3   FRANK    F2  \n",
      "4    None  None  \n"
     ]
    }
   ],
   "source": [
    "q = '''SELECT *\n",
    "FROM crisis\n",
    "LIMIT 5\n",
    "OFFSET 10'''\n",
    "print(pd.read_sql(q, conn))"
   ]
  },
  {
   "cell_type": "markdown",
   "id": "4b22ed66-cf05-462f-ae3e-1ba7e3bbd92e",
   "metadata": {},
   "source": [
    "Let's see what the most frequent crisis calls are. "
   ]
  },
  {
   "cell_type": "code",
   "execution_count": 11,
   "id": "649df4d6-37e4-434e-bd39-baf6b4768c9e",
   "metadata": {},
   "outputs": [
    {
     "name": "stdout",
     "output_type": "stream",
     "text": [
      "                uniqueid  incident_num           incident_type  \\\n",
      "0  2014UOF-0011-1233-223           284  Level 2 - Use of Force   \n",
      "1  2014UOF-0012-1464-223           271  Level 2 - Use of Force   \n",
      "2   2014UOF-0013-147-245           292  Level 1 - Use of Force   \n",
      "3  2014UOF-0014-1202-245           293  Level 1 - Use of Force   \n",
      "4  2014UOF-0015-1031-169           219  Level 1 - Use of Force   \n",
      "\n",
      "         occured_date_time precinct   sector beat  officer_id  subject_id  \\\n",
      "0  2014-06-11T02:15:00.000     West     KING   K3        1640         223   \n",
      "1  2014-06-11T02:15:00.000     West     KING   K3        1141         223   \n",
      "2  2014-06-17T18:21:00.000     East   GEORGE   G3        1542         245   \n",
      "3  2014-06-17T18:30:00.000     East   GEORGE   G3        1635         245   \n",
      "4  2014-05-30T23:23:00.000     East  CHARLIE   C1        1690         169   \n",
      "\n",
      "                subject_race subject_gender  \n",
      "0              Not Specified           Male  \n",
      "1              Not Specified           Male  \n",
      "2  Black or African American           Male  \n",
      "3  Black or African American           Male  \n",
      "4                      White           Male  \n"
     ]
    }
   ],
   "source": [
    "q = '''SELECT *\n",
    "FROM uof\n",
    "LIMIT 5\n",
    "OFFSET 10'''\n",
    "print(pd.read_sql(q, conn))"
   ]
  },
  {
   "cell_type": "code",
   "execution_count": 12,
   "id": "3e6caa53-d5ed-4e7c-b6dc-b6177277f5a4",
   "metadata": {},
   "outputs": [
    {
     "name": "stdout",
     "output_type": "stream",
     "text": [
      "  report_number   offense_id offense_start_datetime     offense_end_datetime  \\\n",
      "0   2020-044038  12604928711    2020-02-04 20:57:00                     None   \n",
      "1   2020-043971  12604927228    2019-02-04 00:00:00  2020-02-04T08:00:00.000   \n",
      "2   2020-043805  12604929082    2020-01-30 19:30:00                     None   \n",
      "3   2020-043805  12605193820    2020-01-30 19:30:00                     None   \n",
      "4   2020-043518  12604909238    2020-02-04 07:30:00  2020-02-04T10:00:00.000   \n",
      "\n",
      "       report_datetime group_a_b crime_against_category  offense_parent_group  \\\n",
      "0  2020-02-04 21:20:35         A               PROPERTY         LARCENY-THEFT   \n",
      "1  2020-02-04 21:18:52         A               PROPERTY        FRAUD OFFENSES   \n",
      "2  2020-02-04 21:14:00         A               PROPERTY         LARCENY-THEFT   \n",
      "3  2020-02-04 21:14:00         A                 PERSON  KIDNAPPING/ABDUCTION   \n",
      "4  2020-02-04 20:59:01         A               PROPERTY         LARCENY-THEFT   \n",
      "\n",
      "                    offense offense_code precinct sector beat  \\\n",
      "0               Shoplifting          23C        E      E   E2   \n",
      "1                Wire Fraud          26E        N      U   U2   \n",
      "2       Theft From Building          23D        S      R   R3   \n",
      "3      Kidnapping/Abduction          100        S      R   R3   \n",
      "4  Theft From Motor Vehicle          23F        S      R   R1   \n",
      "\n",
      "                mcpp        _100_block_address   longitude   latitude  \n",
      "0       CAPITOL HILL    15XX BLOCK OF BROADWAY -122.320790  47.614655  \n",
      "1         UNIVERSITY  45XX BLOCK OF 7TH AVE NE -122.320720  47.662473  \n",
      "2      COLUMBIA CITY                      None    0.000000   0.000000  \n",
      "3      COLUMBIA CITY                      None    0.000000   0.000000  \n",
      "4  NORTH BEACON HILL  19XX BLOCK OF 13TH AVE S -122.315977  47.585956  \n"
     ]
    }
   ],
   "source": [
    "q = '''SELECT *\n",
    "FROM crime\n",
    "LIMIT 5\n",
    "OFFSET 10'''\n",
    "print(pd.read_sql(q, conn))"
   ]
  },
  {
   "cell_type": "markdown",
   "id": "cc1bfbb1-8814-4e1f-a112-fb95703f4f88",
   "metadata": {},
   "source": [
    "# Querying the database\n",
    "Now that our database is created, we can run various queries to try to extract conclusions."
   ]
  },
  {
   "cell_type": "markdown",
   "id": "f79db1c3-76df-4df2-a340-6fd81c47d1eb",
   "metadata": {},
   "source": [
    "What are the most common crisis call types?"
   ]
  },
  {
   "cell_type": "code",
   "execution_count": 11,
   "id": "6ddc841e-2f66-47b1-bba0-4899471ba018",
   "metadata": {},
   "outputs": [
    {
     "name": "stdout",
     "output_type": "stream",
     "text": [
      "                                  initial_call_type  Counts\n",
      "0             PERSON IN BEHAVIORAL/EMOTIONAL CRISIS   13700\n",
      "1      SUICIDE - IP/JO SUICIDAL PERSON AND ATTEMPTS   13314\n",
      "2                  DISTURBANCE, MISCELLANEOUS/OTHER    6543\n",
      "3                                              None    5611\n",
      "4            SUSPICIOUS PERSON, VEHICLE OR INCIDENT    2563\n",
      "5                           SERVICE - WELFARE CHECK    2244\n",
      "6             SUICIDE, SUICIDAL PERSON AND ATTEMPTS    2184\n",
      "7                                          TRESPASS    2080\n",
      "8                  DIST - IP/JO - DV DIST - NO ASLT    1993\n",
      "9     THREATS (INCLS IN-PERSON/BY PHONE/IN WRITING)    1802\n",
      "10   ASLT - IP/JO - WITH OR W/O WPNS (NO SHOOTINGS)    1628\n",
      "11           SFD - ASSIST ON FIRE OR MEDIC RESPONSE    1624\n",
      "12                              DIST - DV - NO ASLT    1617\n",
      "13            ASSIST OTHER AGENCY - ROUTINE SERVICE    1473\n",
      "14  HAZ - POTENTIAL THRT TO PHYS SAFETY (NO HAZMAT)    1250\n",
      "15        ASLT - WITH OR W/O WEAPONS (NO SHOOTINGS)    1137\n",
      "16            UNKNOWN - COMPLAINT OF UNKNOWN NATURE    1000\n",
      "17                                ASLT - IP/JO - DV     920\n",
      "18                 OVERDOSE - DRUG RELATED CASUALTY     883\n",
      "19                     LEWD -  (EXPOSING, FLASHING)     640\n",
      "20   WEAPN-IP/JO-GUN,DEADLY WPN (NO THRT/ASLT/DIST)     633\n",
      "21        HARAS - NO BIAS, THREATS OR MALICIOUSNESS     626\n",
      "22                                PROPERTY - DAMAGE     605\n",
      "23       SUSPICIOUS STOP - OFFICER INITIATED ONVIEW     581\n",
      "24       BURG - IP/JO - RES (INCL UNOCC STRUCTURES)     563\n"
     ]
    }
   ],
   "source": [
    "q = '''SELECT initial_call_type, count(*) Counts \n",
    "FROM crisis\n",
    "GROUP BY initial_call_type\n",
    "ORDER BY Counts DESC\n",
    "LIMIT 25\n",
    "'''\n",
    "print(pd.read_sql(q, conn))"
   ]
  },
  {
   "cell_type": "code",
   "execution_count": null,
   "id": "89f00662-045e-4e3f-87e1-cb10734b0868",
   "metadata": {},
   "outputs": [],
   "source": []
  },
  {
   "cell_type": "code",
   "execution_count": 16,
   "id": "efbfa3d2-ebf9-4606-a079-b1e7896a8ba5",
   "metadata": {},
   "outputs": [
    {
     "name": "stdout",
     "output_type": "stream",
     "text": [
      "   Year  No CIT\n",
      "0  2015     661\n",
      "1  2016     796\n",
      "2  2017     716\n",
      "3  2018     774\n",
      "4  2019     198\n"
     ]
    }
   ],
   "source": [
    "q = '''SELECT strftime('%Y', reported_date) Year, COUNT(DISTINCT template_id) \"No CIT\" \n",
    "FROM crisis\n",
    "WHERE cit_officer_requested = \"Y\" AND\n",
    "cit_officer_arrived = \"N\"\n",
    "GROUP BY Year\n",
    "ORDER BY Year\n",
    "'''\n",
    "print(pd.read_sql(q, conn))"
   ]
  },
  {
   "cell_type": "code",
   "execution_count": 22,
   "id": "0a625bd8-ced4-42db-9ca8-9d2ce9f05150",
   "metadata": {},
   "outputs": [
    {
     "name": "stdout",
     "output_type": "stream",
     "text": [
      "   beat  Use of Force Count\n",
      "0    E2                1117\n",
      "1    K2                 521\n",
      "2    K3                 514\n",
      "3    K1                 492\n",
      "4    D2                 472\n",
      "5    N3                 469\n",
      "6    R2                 420\n",
      "7    M3                 392\n",
      "8    S1                 367\n",
      "9    E1                 365\n",
      "10   D1                 357\n",
      "11   M2                 353\n",
      "12   XX                 345\n",
      "13   S2                 332\n",
      "14   N2                 321\n",
      "15   U2                 297\n",
      "16   S3                 274\n",
      "17   M1                 274\n",
      "18   R1                 270\n",
      "19   E3                 265\n",
      "20   D3                 244\n",
      "21   O1                 243\n",
      "22   Q3                 239\n",
      "23   G2                 235\n",
      "24   G3                 233\n",
      "25   G1                 229\n",
      "26   L1                 224\n",
      "27   L2                 221\n",
      "28   R3                 214\n",
      "29   B1                 210\n",
      "30   U1                 209\n",
      "31   L3                 205\n",
      "32   U3                 201\n",
      "33   F2                 182\n",
      "34   B2                 182\n",
      "35   J1                 173\n",
      "36   C1                 170\n",
      "37   Q2                 168\n",
      "38   O3                 159\n",
      "39   O2                 157\n",
      "40   F3                 155\n",
      "41   C3                 154\n",
      "42   J3                 152\n",
      "43   B3                 150\n",
      "44   F1                 148\n",
      "45   N1                 134\n",
      "46   W3                 128\n",
      "47   W1                 128\n",
      "48   J2                 127\n",
      "49   Q1                 114\n",
      "50   C2                 105\n",
      "51   W2                  92\n",
      "52   99                  37\n",
      "53    0                  13\n"
     ]
    }
   ],
   "source": [
    "q = '''SELECT \"Beat\", COUNT(*) \"Use of Force Count\"\n",
    "FROM uof\n",
    "WHERE beat != \"-\"\n",
    "GROUP BY beat\n",
    "ORDER BY \"Use of Force Count\" DESC\n",
    "'''\n",
    "print(pd.read_sql(q, conn))"
   ]
  },
  {
   "cell_type": "code",
   "execution_count": 8,
   "id": "af1ea3d4-c9cb-42e5-9650-0379ab213096",
   "metadata": {},
   "outputs": [
    {
     "name": "stdout",
     "output_type": "stream",
     "text": [
      "   beat  Count\n",
      "0    K3   2614\n",
      "1    E3   2515\n",
      "2    E1   2433\n",
      "3    K2   2386\n",
      "4    K1   2028\n",
      "5    D2   1938\n",
      "6    G1   1872\n",
      "7    D3   1832\n",
      "8    N3   1830\n",
      "9    D1   1822\n",
      "10   E2   1686\n",
      "11   Q3   1633\n",
      "12   R2   1515\n",
      "13   B1   1514\n",
      "14   U2   1469\n",
      "15   M1   1429\n",
      "16   N2   1428\n",
      "17   L3   1400\n",
      "18   G2   1375\n",
      "19   B3   1359\n",
      "20   L1   1358\n",
      "21   F1   1358\n",
      "22   M2   1342\n",
      "23   U1   1339\n",
      "24   W2   1313\n",
      "25   U3   1313\n",
      "26   N1   1263\n",
      "27   Q2   1262\n",
      "28   C1   1248\n",
      "29   G3   1236\n",
      "30   W1   1225\n",
      "31   M3   1186\n",
      "32   C2   1169\n",
      "33   L2   1145\n",
      "34   B2   1091\n",
      "35   W3   1085\n",
      "36   R1   1041\n",
      "37   R3   1022\n",
      "38   J1   1018\n",
      "39   F2   1006\n",
      "40   S1   1001\n",
      "41   J3    983\n",
      "42   C3    920\n",
      "43   S2    850\n",
      "44   J2    848\n",
      "45   F3    825\n",
      "46   Q1    818\n",
      "47   S3    810\n",
      "48   O1    697\n",
      "49   O3    566\n",
      "50   O2    465\n",
      "51   99     21\n",
      "52  OOJ     16\n"
     ]
    }
   ],
   "source": [
    "q = '''SELECT \"Beat\", COUNT(DISTINCT template_id) Count \n",
    "FROM crisis\n",
    "WHERE beat != \"-\"\n",
    "GROUP BY beat\n",
    "ORDER BY Count DESC\n",
    "'''\n",
    "print(pd.read_sql(q, conn))"
   ]
  },
  {
   "cell_type": "code",
   "execution_count": null,
   "id": "1f0f0753-ec46-4742-bc4d-b17566f70daf",
   "metadata": {},
   "outputs": [],
   "source": []
  },
  {
   "cell_type": "markdown",
   "id": "25a10b46-bf6b-4b89-80b4-acb6beb032d8",
   "metadata": {},
   "source": [
    "Compare incedent counts per beat with use of force per beat\n",
    "Most common crime type in each neighborhood"
   ]
  },
  {
   "cell_type": "code",
   "execution_count": null,
   "id": "53e7b41a-3abb-4110-a262-5f4262b203ba",
   "metadata": {},
   "outputs": [],
   "source": []
  }
 ],
 "metadata": {
  "kernelspec": {
   "display_name": "Python 3 (ipykernel)",
   "language": "python",
   "name": "python3"
  },
  "language_info": {
   "codemirror_mode": {
    "name": "ipython",
    "version": 3
   },
   "file_extension": ".py",
   "mimetype": "text/x-python",
   "name": "python",
   "nbconvert_exporter": "python",
   "pygments_lexer": "ipython3",
   "version": "3.8.10"
  }
 },
 "nbformat": 4,
 "nbformat_minor": 5
}
