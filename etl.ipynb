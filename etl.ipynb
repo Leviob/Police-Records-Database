{
 "cells": [
  {
   "cell_type": "markdown",
   "id": "85fe5d68-ef28-46d4-a3ee-e19d8ba5ffe9",
   "metadata": {},
   "source": [
    "# Creating SQL Database\n",
    "Building on our initial exploration, we can ingest and clean the data using the techniques from `exploration.ipynb`.\n",
    "Rather than using a static CSV file, let's download the most recent CSV.\n"
   ]
  },
  {
   "cell_type": "code",
   "execution_count": 1,
   "id": "86cde9a4-4114-49e8-8f20-a07975efc2f0",
   "metadata": {},
   "outputs": [],
   "source": [
    "import pandas as pd\n",
    "pd.set_option('display.max_columns', None)\n",
    "df = pd.read_csv('https://data.seattle.gov/resource/i2q9-thny.csv?$limit=100000')\n",
    "df.replace({'-': None}, inplace=True)"
   ]
  },
  {
   "cell_type": "code",
   "execution_count": 2,
   "id": "aafef2d8-6c06-43a7-bd6c-b9fc8ed72b42",
   "metadata": {},
   "outputs": [
    {
     "data": {
      "text/plain": [
       "75987"
      ]
     },
     "execution_count": 2,
     "metadata": {},
     "output_type": "execute_result"
    }
   ],
   "source": [
    "import sqlite3\n",
    "conn = sqlite3.connect('police-records.db')\n",
    "data = df\n",
    "data.to_sql('Crisis', conn, if_exists='replace', index=False)"
   ]
  },
  {
   "cell_type": "code",
   "execution_count": 3,
   "id": "063fd55e-4ba2-4a2b-818a-78fe23ec74ff",
   "metadata": {},
   "outputs": [
    {
     "name": "stdout",
     "output_type": "stream",
     "text": [
      "   COUNT(*)\n",
      "0     75987\n"
     ]
    }
   ],
   "source": [
    "q = '''SELECT COUNT(*)\n",
    "FROM crisis'''\n",
    "print(pd.read_sql(q, conn))"
   ]
  },
  {
   "cell_type": "markdown",
   "id": "e7a26275-f81c-4b5b-8a78-e6c0a98d27ba",
   "metadata": {},
   "source": [
    "The dataset website warns us in many places that there is a one to many relationship between the disposition and the event. This means to get accurate counts of the crisis events we need to count the distinct `template_id` values, not rows. "
   ]
  },
  {
   "cell_type": "code",
   "execution_count": 4,
   "id": "880af247-b236-43ac-98fc-7f36a647f762",
   "metadata": {},
   "outputs": [
    {
     "name": "stdout",
     "output_type": "stream",
     "text": [
      "   Counts\n",
      "0   74900\n"
     ]
    }
   ],
   "source": [
    "q = '''SELECT COUNT(DISTINCT template_id) Counts\n",
    "FROM crisis'''\n",
    "print(pd.read_sql(q, conn))"
   ]
  },
  {
   "cell_type": "markdown",
   "id": "6524a20e-41d0-451c-9e6f-70a27f306f49",
   "metadata": {},
   "source": [
    "We can check that are database looks correct:"
   ]
  },
  {
   "cell_type": "code",
   "execution_count": 9,
   "id": "71d3d790-25c1-4705-afe6-b7737cfda1e1",
   "metadata": {},
   "outputs": [
    {
     "name": "stdout",
     "output_type": "stream",
     "text": [
      "   template_id        reported_date reported_time        occured_date_time  \\\n",
      "0        57315  2015-05-15T00:00:00      08:30:00  2015-05-15T18:16:56.000   \n",
      "1        43662  2015-05-15T00:00:00      10:22:00  2015-05-15T21:33:28.000   \n",
      "2        43653  2015-05-15T00:00:00      08:33:00  2015-05-15T19:48:18.000   \n",
      "3        43982  2015-05-16T00:00:00      11:07:00  2015-05-16T22:50:33.000   \n",
      "4        43845  2015-05-16T00:00:00      12:13:00  2015-05-16T05:15:03.000   \n",
      "\n",
      "                  call_type                                initial_call_type  \\\n",
      "0                       911  HAZ - POTENTIAL THRT TO PHYS SAFETY (NO HAZMAT)   \n",
      "1                    ONVIEW  HAZ - POTENTIAL THRT TO PHYS SAFETY (NO HAZMAT)   \n",
      "2                       911            PERSON IN BEHAVIORAL/EMOTIONAL CRISIS   \n",
      "3  TELEPHONE OTHER, NOT 911                          SERVICE - WELFARE CHECK   \n",
      "4                       911            PERSON IN BEHAVIORAL/EMOTIONAL CRISIS   \n",
      "\n",
      "                final_call_type                     disposition  \\\n",
      "0         --DISTURBANCE - OTHER               Shelter Transport   \n",
      "1  --CRISIS COMPLAINT - GENERAL  No Action Possible / Necessary   \n",
      "2  --CRISIS COMPLAINT - GENERAL  No Action Possible / Necessary   \n",
      "3  --CRISIS COMPLAINT - GENERAL        Emergent Detention / ITA   \n",
      "4  --CRISIS COMPLAINT - GENERAL              Resources Declined   \n",
      "\n",
      "  use_of_force_indicator subject_veteran_indicator cit_officer_requested  \\\n",
      "0                      N                         N                     N   \n",
      "1                      N                         N                     N   \n",
      "2                      N                         N                     N   \n",
      "3                      N                         N                     N   \n",
      "4                      N                         N                     Y   \n",
      "\n",
      "  cit_officer_dispatched cit_officer_arrived officer_id officer_gender  \\\n",
      "0                      N                   Y       7666              F   \n",
      "1                      N                   Y       7654              M   \n",
      "2                      N                   Y       7789              M   \n",
      "3                      N                   Y       7402              M   \n",
      "4                      Y                   Y       7634              M   \n",
      "\n",
      "                officer_race  officer_year_of_birth  \\\n",
      "0                      White                   1970   \n",
      "1                      White                   1984   \n",
      "2  Black or African American                   1985   \n",
      "3                      White                   1973   \n",
      "4                      White                   1977   \n",
      "\n",
      "   officer_years_of_experience cit_certified_indicator officer_bureau_desc  \\\n",
      "0                            2                       N   OPERATIONS BUREAU   \n",
      "1                            8                       N   OPERATIONS BUREAU   \n",
      "2                            2                       N   OPERATIONS BUREAU   \n",
      "3                           15                       N   OPERATIONS BUREAU   \n",
      "4                            2                       N   OPERATIONS BUREAU   \n",
      "\n",
      "  officer_precinct_desc                     officer_squad_desc precinct  \\\n",
      "0              EAST PCT            EAST PCT 3RD W - E/G RELIEF     None   \n",
      "1              WEST PCT                  WEST PCT 3RD W - KING     West   \n",
      "2              WEST PCT                 WEST PCT 3RD W - DAVID     West   \n",
      "3              EAST PCT                EAST PCT 3RD W - EDWARD     East   \n",
      "4              EAST PCT  EAST PCT 1ST W - E/G RELIEF (CHARLIE)     East   \n",
      "\n",
      "    sector  beat  \n",
      "0     None  None  \n",
      "1     KING    K1  \n",
      "2     KING    K3  \n",
      "3   EDWARD    E1  \n",
      "4  CHARLIE    C3  \n"
     ]
    }
   ],
   "source": [
    "q = '''SELECT *\n",
    "FROM crisis\n",
    "LIMIT 5\n",
    "OFFSET 10'''\n",
    "print(pd.read_sql(q, conn))"
   ]
  },
  {
   "cell_type": "markdown",
   "id": "4b22ed66-cf05-462f-ae3e-1ba7e3bbd92e",
   "metadata": {},
   "source": [
    "Let's see what the most frequent crisis calls are. "
   ]
  },
  {
   "cell_type": "code",
   "execution_count": 11,
   "id": "6ddc841e-2f66-47b1-bba0-4899471ba018",
   "metadata": {},
   "outputs": [
    {
     "name": "stdout",
     "output_type": "stream",
     "text": [
      "                                  initial_call_type  Counts\n",
      "0             PERSON IN BEHAVIORAL/EMOTIONAL CRISIS   13700\n",
      "1      SUICIDE - IP/JO SUICIDAL PERSON AND ATTEMPTS   13314\n",
      "2                  DISTURBANCE, MISCELLANEOUS/OTHER    6543\n",
      "3                                              None    5611\n",
      "4            SUSPICIOUS PERSON, VEHICLE OR INCIDENT    2563\n",
      "5                           SERVICE - WELFARE CHECK    2244\n",
      "6             SUICIDE, SUICIDAL PERSON AND ATTEMPTS    2184\n",
      "7                                          TRESPASS    2080\n",
      "8                  DIST - IP/JO - DV DIST - NO ASLT    1993\n",
      "9     THREATS (INCLS IN-PERSON/BY PHONE/IN WRITING)    1802\n",
      "10   ASLT - IP/JO - WITH OR W/O WPNS (NO SHOOTINGS)    1628\n",
      "11           SFD - ASSIST ON FIRE OR MEDIC RESPONSE    1624\n",
      "12                              DIST - DV - NO ASLT    1617\n",
      "13            ASSIST OTHER AGENCY - ROUTINE SERVICE    1473\n",
      "14  HAZ - POTENTIAL THRT TO PHYS SAFETY (NO HAZMAT)    1250\n",
      "15        ASLT - WITH OR W/O WEAPONS (NO SHOOTINGS)    1137\n",
      "16            UNKNOWN - COMPLAINT OF UNKNOWN NATURE    1000\n",
      "17                                ASLT - IP/JO - DV     920\n",
      "18                 OVERDOSE - DRUG RELATED CASUALTY     883\n",
      "19                     LEWD -  (EXPOSING, FLASHING)     640\n",
      "20   WEAPN-IP/JO-GUN,DEADLY WPN (NO THRT/ASLT/DIST)     633\n",
      "21        HARAS - NO BIAS, THREATS OR MALICIOUSNESS     626\n",
      "22                                PROPERTY - DAMAGE     605\n",
      "23       SUSPICIOUS STOP - OFFICER INITIATED ONVIEW     581\n",
      "24       BURG - IP/JO - RES (INCL UNOCC STRUCTURES)     563\n"
     ]
    }
   ],
   "source": [
    "q = '''SELECT initial_call_type, count(*) Counts \n",
    "FROM crisis\n",
    "GROUP BY initial_call_type\n",
    "ORDER BY Counts DESC\n",
    "LIMIT 25\n",
    "'''\n",
    "print(pd.read_sql(q, conn))"
   ]
  },
  {
   "cell_type": "code",
   "execution_count": 17,
   "id": "0a625bd8-ced4-42db-9ca8-9d2ce9f05150",
   "metadata": {},
   "outputs": [
    {
     "name": "stdout",
     "output_type": "stream",
     "text": [
      "   Year  Requested CIT\n",
      "0  1900              2\n",
      "1  2015           2605\n",
      "2  2016           4520\n",
      "3  2017           4774\n",
      "4  2018           5580\n",
      "5  2019           7454\n",
      "6  2020           7780\n",
      "7  2021           8234\n",
      "8  2022           5523\n"
     ]
    }
   ],
   "source": [
    "q = '''SELECT strftime('%Y', reported_date) Year, COUNT(DISTINCT template_id) \"Requested CIT\" \n",
    "FROM crisis\n",
    "WHERE cit_officer_requested = \"Y\"\n",
    "GROUP BY Year\n",
    "ORDER BY Year\n",
    "'''\n",
    "print(pd.read_sql(q, conn))"
   ]
  },
  {
   "cell_type": "code",
   "execution_count": 16,
   "id": "efbfa3d2-ebf9-4606-a079-b1e7896a8ba5",
   "metadata": {},
   "outputs": [
    {
     "name": "stdout",
     "output_type": "stream",
     "text": [
      "   Year  No CIT\n",
      "0  2015     661\n",
      "1  2016     796\n",
      "2  2017     716\n",
      "3  2018     774\n",
      "4  2019     198\n"
     ]
    }
   ],
   "source": [
    "q = '''SELECT strftime('%Y', reported_date) Year, COUNT(DISTINCT template_id) \"No CIT\" \n",
    "FROM crisis\n",
    "WHERE cit_officer_requested = \"Y\" AND\n",
    "cit_officer_arrived = \"N\"\n",
    "GROUP BY Year\n",
    "ORDER BY Year\n",
    "'''\n",
    "print(pd.read_sql(q, conn))"
   ]
  },
  {
   "cell_type": "code",
   "execution_count": 8,
   "id": "af1ea3d4-c9cb-42e5-9650-0379ab213096",
   "metadata": {},
   "outputs": [
    {
     "name": "stdout",
     "output_type": "stream",
     "text": [
      "   beat  Count\n",
      "0    K3   2614\n",
      "1    E3   2515\n",
      "2    E1   2433\n",
      "3    K2   2386\n",
      "4    K1   2028\n",
      "5    D2   1938\n",
      "6    G1   1872\n",
      "7    D3   1832\n",
      "8    N3   1830\n",
      "9    D1   1822\n",
      "10   E2   1686\n",
      "11   Q3   1633\n",
      "12   R2   1515\n",
      "13   B1   1514\n",
      "14   U2   1469\n",
      "15   M1   1429\n",
      "16   N2   1428\n",
      "17   L3   1400\n",
      "18   G2   1375\n",
      "19   B3   1359\n",
      "20   L1   1358\n",
      "21   F1   1358\n",
      "22   M2   1342\n",
      "23   U1   1339\n",
      "24   W2   1313\n",
      "25   U3   1313\n",
      "26   N1   1263\n",
      "27   Q2   1262\n",
      "28   C1   1248\n",
      "29   G3   1236\n",
      "30   W1   1225\n",
      "31   M3   1186\n",
      "32   C2   1169\n",
      "33   L2   1145\n",
      "34   B2   1091\n",
      "35   W3   1085\n",
      "36   R1   1041\n",
      "37   R3   1022\n",
      "38   J1   1018\n",
      "39   F2   1006\n",
      "40   S1   1001\n",
      "41   J3    983\n",
      "42   C3    920\n",
      "43   S2    850\n",
      "44   J2    848\n",
      "45   F3    825\n",
      "46   Q1    818\n",
      "47   S3    810\n",
      "48   O1    697\n",
      "49   O3    566\n",
      "50   O2    465\n",
      "51   99     21\n",
      "52  OOJ     16\n"
     ]
    }
   ],
   "source": [
    "q = '''SELECT \"Beat\", COUNT(DISTINCT template_id) Count \n",
    "FROM crisis\n",
    "WHERE beat != \"-\"\n",
    "GROUP BY beat\n",
    "ORDER BY Count DESC\n",
    "'''\n",
    "print(pd.read_sql(q, conn))"
   ]
  },
  {
   "cell_type": "code",
   "execution_count": null,
   "id": "1f0f0753-ec46-4742-bc4d-b17566f70daf",
   "metadata": {},
   "outputs": [],
   "source": []
  },
  {
   "cell_type": "code",
   "execution_count": null,
   "id": "91a69b0f-ff61-4ff4-84cc-4801148eb124",
   "metadata": {},
   "outputs": [],
   "source": []
  }
 ],
 "metadata": {
  "kernelspec": {
   "display_name": "Python 3 (ipykernel)",
   "language": "python",
   "name": "python3"
  },
  "language_info": {
   "codemirror_mode": {
    "name": "ipython",
    "version": 3
   },
   "file_extension": ".py",
   "mimetype": "text/x-python",
   "name": "python",
   "nbconvert_exporter": "python",
   "pygments_lexer": "ipython3",
   "version": "3.8.10"
  }
 },
 "nbformat": 4,
 "nbformat_minor": 5
}
