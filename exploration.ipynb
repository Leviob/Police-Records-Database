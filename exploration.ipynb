{
 "cells": [
  {
   "cell_type": "markdown",
   "id": "ec084aa9-c66d-4fcd-a961-2dcb22ee4b97",
   "metadata": {},
   "source": [
    "# Police Data Exploration\n",
    "## Crisis Data Dataset\n",
    "### Exploration"
   ]
  },
  {
   "cell_type": "code",
   "execution_count": 1,
   "id": "f86e57bc-61e4-444a-b873-88b576f6e051",
   "metadata": {},
   "outputs": [
    {
     "name": "stdout",
     "output_type": "stream",
     "text": [
      "<class 'pandas.core.frame.DataFrame'>\n",
      "RangeIndex: 75082 entries, 0 to 75081\n",
      "Data columns (total 25 columns):\n",
      " #   Column                       Non-Null Count  Dtype \n",
      "---  ------                       --------------  ----- \n",
      " 0   Template ID                  75082 non-null  int64 \n",
      " 1   Reported Date                75082 non-null  object\n",
      " 2   Reported Time                75082 non-null  object\n",
      " 3   Occurred Date / Time         75082 non-null  object\n",
      " 4   Call Type                    75082 non-null  object\n",
      " 5   Initial Call Type            75082 non-null  object\n",
      " 6   Final Call Type              75082 non-null  object\n",
      " 7   Disposition                  75082 non-null  object\n",
      " 8   Use of Force Indicator       75082 non-null  object\n",
      " 9   Subject Veteran Indicator    75082 non-null  object\n",
      " 10  CIT Officer Requested        75082 non-null  object\n",
      " 11  CIT Officer Dispatched       75082 non-null  object\n",
      " 12  CIT Officer Arrived          75082 non-null  object\n",
      " 13  Officer ID                   75082 non-null  object\n",
      " 14  Officer Gender               75082 non-null  object\n",
      " 15  Officer Race                 75082 non-null  object\n",
      " 16  Officer Year of Birth        75082 non-null  int64 \n",
      " 17  Officer Years of Experience  75082 non-null  int64 \n",
      " 18  CIT Certified Indicator      75082 non-null  object\n",
      " 19  Officer Bureau Desc          69254 non-null  object\n",
      " 20  Officer Precinct Desc        68885 non-null  object\n",
      " 21  Officer Squad Desc           69271 non-null  object\n",
      " 22  Precinct                     75082 non-null  object\n",
      " 23  Sector                       75082 non-null  object\n",
      " 24  Beat                         75082 non-null  object\n",
      "dtypes: int64(3), object(22)\n",
      "memory usage: 106.9 MB\n"
     ]
    }
   ],
   "source": [
    "import pandas as pd\n",
    "pd.set_option('display.max_columns', None)\n",
    "pd.set_option('display.max_rows', 500)\n",
    "df = pd.read_csv('../Datasets/Crisis_Data.csv')\n",
    "df.info(memory_usage='deep')"
   ]
  },
  {
   "cell_type": "markdown",
   "id": "63ed6694-d374-496d-b931-1fd18d5c93cc",
   "metadata": {},
   "source": [
    "### Dealing with Missing Values\n",
    "To make the missing data here more consistent, let's replace the dash values with None."
   ]
  },
  {
   "cell_type": "code",
   "execution_count": 2,
   "id": "7acf93c3-e0bf-4d3b-a94c-bd5f78214efa",
   "metadata": {},
   "outputs": [
    {
     "data": {
      "text/html": [
       "<div>\n",
       "<style scoped>\n",
       "    .dataframe tbody tr th:only-of-type {\n",
       "        vertical-align: middle;\n",
       "    }\n",
       "\n",
       "    .dataframe tbody tr th {\n",
       "        vertical-align: top;\n",
       "    }\n",
       "\n",
       "    .dataframe thead th {\n",
       "        text-align: right;\n",
       "    }\n",
       "</style>\n",
       "<table border=\"1\" class=\"dataframe\">\n",
       "  <thead>\n",
       "    <tr style=\"text-align: right;\">\n",
       "      <th></th>\n",
       "      <th>Precinct</th>\n",
       "      <th>Sector</th>\n",
       "      <th>Beat</th>\n",
       "    </tr>\n",
       "  </thead>\n",
       "  <tbody>\n",
       "    <tr>\n",
       "      <th>8</th>\n",
       "      <td>-</td>\n",
       "      <td>-</td>\n",
       "      <td>-</td>\n",
       "    </tr>\n",
       "  </tbody>\n",
       "</table>\n",
       "</div>"
      ],
      "text/plain": [
       "  Precinct Sector Beat\n",
       "8        -      -    -"
      ]
     },
     "execution_count": 2,
     "metadata": {},
     "output_type": "execute_result"
    }
   ],
   "source": [
    "df.iloc[8:9,22:25]"
   ]
  },
  {
   "cell_type": "code",
   "execution_count": 3,
   "id": "327ee002-a71e-4081-a481-f9f9debc79a2",
   "metadata": {
    "tags": []
   },
   "outputs": [
    {
     "data": {
      "text/html": [
       "<div>\n",
       "<style scoped>\n",
       "    .dataframe tbody tr th:only-of-type {\n",
       "        vertical-align: middle;\n",
       "    }\n",
       "\n",
       "    .dataframe tbody tr th {\n",
       "        vertical-align: top;\n",
       "    }\n",
       "\n",
       "    .dataframe thead th {\n",
       "        text-align: right;\n",
       "    }\n",
       "</style>\n",
       "<table border=\"1\" class=\"dataframe\">\n",
       "  <thead>\n",
       "    <tr style=\"text-align: right;\">\n",
       "      <th></th>\n",
       "      <th>Precinct</th>\n",
       "      <th>Sector</th>\n",
       "      <th>Beat</th>\n",
       "    </tr>\n",
       "  </thead>\n",
       "  <tbody>\n",
       "    <tr>\n",
       "      <th>8</th>\n",
       "      <td>None</td>\n",
       "      <td>None</td>\n",
       "      <td>None</td>\n",
       "    </tr>\n",
       "  </tbody>\n",
       "</table>\n",
       "</div>"
      ],
      "text/plain": [
       "  Precinct Sector  Beat\n",
       "8     None   None  None"
      ]
     },
     "execution_count": 3,
     "metadata": {},
     "output_type": "execute_result"
    }
   ],
   "source": [
    "df.replace({'-': None}, inplace=True)\n",
    "df.iloc[8:9,22:25]"
   ]
  },
  {
   "cell_type": "code",
   "execution_count": 4,
   "id": "06050b83-bb3c-441b-b5b9-36a21f861343",
   "metadata": {},
   "outputs": [
    {
     "data": {
      "text/plain": [
       "10328"
      ]
     },
     "execution_count": 4,
     "metadata": {},
     "output_type": "execute_result"
    }
   ],
   "source": [
    "df.shape[0] - df.dropna().shape[0]"
   ]
  },
  {
   "cell_type": "markdown",
   "id": "d61bcf01-7953-4f22-b11b-44a9a756ad35",
   "metadata": {},
   "source": [
    "There exist 10,328 rows with at least some missing data. "
   ]
  },
  {
   "cell_type": "code",
   "execution_count": 5,
   "id": "271b844e-b474-409f-a1a0-7cdd43ffec11",
   "metadata": {},
   "outputs": [
    {
     "data": {
      "text/plain": [
       "1056"
      ]
     },
     "execution_count": 5,
     "metadata": {},
     "output_type": "execute_result"
    }
   ],
   "source": [
    "df[(df['Officer Years of Experience'] == -1)].shape[0]\n"
   ]
  },
  {
   "cell_type": "code",
   "execution_count": 6,
   "id": "b41b983f-042c-4e29-9b05-5363637a16d8",
   "metadata": {},
   "outputs": [
    {
     "data": {
      "text/plain": [
       "377"
      ]
     },
     "execution_count": 6,
     "metadata": {},
     "output_type": "execute_result"
    }
   ],
   "source": [
    "df[(df['Officer Year of Birth'] == 1900)].shape[0]\n"
   ]
  },
  {
   "cell_type": "markdown",
   "id": "41a70111-1839-4bb6-93ce-d2ac86bebac7",
   "metadata": {},
   "source": [
    "There still exist some missing data in the integer columns in the form of officers being born in the year 1900, or officers having -1 years of experience. \n",
    "\n",
    "### Optimizing Datetime Columns\n",
    "\n",
    "Let's look at optimizing the date columns."
   ]
  },
  {
   "cell_type": "code",
   "execution_count": 7,
   "id": "0db95b7c-d4d6-419d-b61e-3e42d140c441",
   "metadata": {},
   "outputs": [
    {
     "data": {
      "text/plain": [
       "6"
      ]
     },
     "execution_count": 7,
     "metadata": {},
     "output_type": "execute_result"
    }
   ],
   "source": [
    "df['Reported Date'].value_counts()['1900-01-01T00:00:00']"
   ]
  },
  {
   "cell_type": "code",
   "execution_count": 8,
   "id": "69e08ad1-3623-425f-b17e-bed5b17e7236",
   "metadata": {},
   "outputs": [
    {
     "data": {
      "text/plain": [
       "5600"
      ]
     },
     "execution_count": 8,
     "metadata": {},
     "output_type": "execute_result"
    }
   ],
   "source": [
    "df['Occurred Date / Time'].value_counts()['01/01/1900 12:00:00 AM']"
   ]
  },
  {
   "cell_type": "markdown",
   "id": "c77974ea-cb4d-4309-bc42-fefe5938bd03",
   "metadata": {},
   "source": [
    "There are some dates that are listed as occurring on January First, 1900. This must be a placeholder for missing / unknown data. Out of the 750082 entries, 6 have unknown reported dates, and 5600 have occurred dates that are unknown. "
   ]
  },
  {
   "cell_type": "code",
   "execution_count": 9,
   "id": "8264225a-d513-489d-8b66-a7e11a77552e",
   "metadata": {},
   "outputs": [],
   "source": [
    "date_cols = ['Reported Date', 'Reported Time', 'Occurred Date / Time']\n",
    "for col in date_cols:\n",
    "    df[col] = pd.to_datetime(df[col])\n"
   ]
  },
  {
   "cell_type": "markdown",
   "id": "db280eb7-0bbf-42de-aced-5f06e39c03c2",
   "metadata": {},
   "source": [
    "### Optimizing Numeric Columns\n",
    "We can cast some columns such as the Officer Year of Birth to integer datatype and downcast it to the optimal subtype. The Officer ID columns has missing data, so it will remain as an object datatype. \n"
   ]
  },
  {
   "cell_type": "code",
   "execution_count": 10,
   "id": "12d2e341-94b3-4beb-a674-dd497728bd05",
   "metadata": {},
   "outputs": [
    {
     "name": "stdout",
     "output_type": "stream",
     "text": [
      "int64 Template ID\n",
      "int16 Officer Year of Birth\n",
      "int8 Officer Years of Experience\n"
     ]
    }
   ],
   "source": [
    "for col in ['Template ID', 'Officer Year of Birth', 'Officer Years of Experience']:\n",
    "    df[col] = df[col].astype('int')\n",
    "    df[col] = pd.to_numeric(df[col], downcast='integer')\n",
    "    print(df[col].dtype, col)                               "
   ]
  },
  {
   "cell_type": "markdown",
   "id": "725ad5d6-fc9b-4c37-8ca9-9afae5fd9565",
   "metadata": {},
   "source": [
    "### Optimizing Object Columns\n",
    "This optimization is only relevant within Pandas and will be lost when it is loaded into a SQL database. \n",
    "Many columns have string values that repeat. We can optimize the space needed for this dataset by converting the columns with < 50% unique rows into category datatypes. "
   ]
  },
  {
   "cell_type": "code",
   "execution_count": 11,
   "id": "1842bb72-1baf-4659-89d7-565d8699bc09",
   "metadata": {},
   "outputs": [
    {
     "name": "stdout",
     "output_type": "stream",
     "text": [
      "Call Type 9 75082\n",
      "Initial Call Type 176 75082\n",
      "Final Call Type 217 75082\n",
      "Disposition 30 75082\n",
      "Use of Force Indicator 2 75082\n",
      "Subject Veteran Indicator 3 75082\n",
      "CIT Officer Requested 2 75082\n",
      "CIT Officer Dispatched 2 75082\n",
      "CIT Officer Arrived 2 75082\n",
      "Officer ID 1283 75082\n",
      "Officer Gender 3 75082\n",
      "Officer Race 9 75082\n",
      "CIT Certified Indicator 2 75082\n",
      "Officer Bureau Desc 7 75082\n",
      "Officer Precinct Desc 27 75082\n",
      "Officer Squad Desc 184 75082\n",
      "Precinct 8 75082\n",
      "Sector 18 75082\n",
      "Beat 54 75082\n"
     ]
    }
   ],
   "source": [
    "for col in df.select_dtypes(include=['object']):\n",
    "    num_unique_values = len(df[col].unique())\n",
    "    num_total_values = len(df[col])\n",
    "    print(col, num_unique_values, num_total_values)\n",
    "    if num_unique_values / num_total_values < 0.5:\n",
    "        df[col] = df[col].astype('category')"
   ]
  },
  {
   "cell_type": "markdown",
   "id": "0478f29e-cac9-43e1-86ec-0a4bee363187",
   "metadata": {
    "tags": []
   },
   "source": [
    "## Condensing Cleaning\n",
    "Knowing what we do now, many of these operations can be consolidated and run during reading of the csv file. "
   ]
  },
  {
   "cell_type": "code",
   "execution_count": 12,
   "id": "4dc6609a-7c0d-4f12-a043-adf070f91d24",
   "metadata": {},
   "outputs": [
    {
     "data": {
      "text/html": [
       "<div>\n",
       "<style scoped>\n",
       "    .dataframe tbody tr th:only-of-type {\n",
       "        vertical-align: middle;\n",
       "    }\n",
       "\n",
       "    .dataframe tbody tr th {\n",
       "        vertical-align: top;\n",
       "    }\n",
       "\n",
       "    .dataframe thead th {\n",
       "        text-align: right;\n",
       "    }\n",
       "</style>\n",
       "<table border=\"1\" class=\"dataframe\">\n",
       "  <thead>\n",
       "    <tr style=\"text-align: right;\">\n",
       "      <th></th>\n",
       "      <th>Template ID</th>\n",
       "      <th>Reported Date</th>\n",
       "      <th>Reported Time</th>\n",
       "      <th>Occurred Date / Time</th>\n",
       "      <th>Call Type</th>\n",
       "      <th>Initial Call Type</th>\n",
       "      <th>Final Call Type</th>\n",
       "      <th>Disposition</th>\n",
       "      <th>Use of Force Indicator</th>\n",
       "      <th>Subject Veteran Indicator</th>\n",
       "      <th>CIT Officer Requested</th>\n",
       "      <th>CIT Officer Dispatched</th>\n",
       "      <th>CIT Officer Arrived</th>\n",
       "      <th>Officer ID</th>\n",
       "      <th>Officer Gender</th>\n",
       "      <th>Officer Race</th>\n",
       "      <th>Officer Year of Birth</th>\n",
       "      <th>Officer Years of Experience</th>\n",
       "      <th>CIT Certified Indicator</th>\n",
       "      <th>Officer Bureau Desc</th>\n",
       "      <th>Officer Precinct Desc</th>\n",
       "      <th>Officer Squad Desc</th>\n",
       "      <th>Precinct</th>\n",
       "      <th>Sector</th>\n",
       "      <th>Beat</th>\n",
       "    </tr>\n",
       "  </thead>\n",
       "  <tbody>\n",
       "    <tr>\n",
       "      <th>15</th>\n",
       "      <td>44102</td>\n",
       "      <td>2015-05-16</td>\n",
       "      <td>2022-10-12 11:30:00</td>\n",
       "      <td>1900-01-01 00:00:00</td>\n",
       "      <td>None</td>\n",
       "      <td>None</td>\n",
       "      <td>None</td>\n",
       "      <td>Voluntary Committal</td>\n",
       "      <td>N</td>\n",
       "      <td>N</td>\n",
       "      <td>N</td>\n",
       "      <td>N</td>\n",
       "      <td>Y</td>\n",
       "      <td>7685</td>\n",
       "      <td>M</td>\n",
       "      <td>White</td>\n",
       "      <td>1973</td>\n",
       "      <td>3</td>\n",
       "      <td>N</td>\n",
       "      <td>NaN</td>\n",
       "      <td>NaN</td>\n",
       "      <td>NaN</td>\n",
       "      <td>None</td>\n",
       "      <td>None</td>\n",
       "      <td>None</td>\n",
       "    </tr>\n",
       "    <tr>\n",
       "      <th>16</th>\n",
       "      <td>43982</td>\n",
       "      <td>2015-05-16</td>\n",
       "      <td>2022-10-12 11:07:00</td>\n",
       "      <td>2015-05-16 22:50:33</td>\n",
       "      <td>TELEPHONE OTHER, NOT 911</td>\n",
       "      <td>SERVICE - WELFARE CHECK</td>\n",
       "      <td>--CRISIS COMPLAINT - GENERAL</td>\n",
       "      <td>Emergent Detention / ITA</td>\n",
       "      <td>N</td>\n",
       "      <td>N</td>\n",
       "      <td>N</td>\n",
       "      <td>N</td>\n",
       "      <td>Y</td>\n",
       "      <td>7402</td>\n",
       "      <td>M</td>\n",
       "      <td>White</td>\n",
       "      <td>1973</td>\n",
       "      <td>15</td>\n",
       "      <td>N</td>\n",
       "      <td>OPERATIONS BUREAU</td>\n",
       "      <td>EAST PCT</td>\n",
       "      <td>EAST PCT 3RD W - EDWARD</td>\n",
       "      <td>East</td>\n",
       "      <td>EDWARD</td>\n",
       "      <td>E1</td>\n",
       "    </tr>\n",
       "    <tr>\n",
       "      <th>17</th>\n",
       "      <td>43719</td>\n",
       "      <td>2015-05-16</td>\n",
       "      <td>2022-10-12 05:58:00</td>\n",
       "      <td>2015-05-16 03:15:18</td>\n",
       "      <td>TELEPHONE OTHER, NOT 911</td>\n",
       "      <td>UNKNOWN - ANI/ALI - WRLS PHNS (INCL OPEN LINE)</td>\n",
       "      <td>--CRISIS COMPLAINT - GENERAL</td>\n",
       "      <td>Unable to Contact</td>\n",
       "      <td>N</td>\n",
       "      <td>N</td>\n",
       "      <td>Y</td>\n",
       "      <td>Y</td>\n",
       "      <td>Y</td>\n",
       "      <td>7787</td>\n",
       "      <td>M</td>\n",
       "      <td>White</td>\n",
       "      <td>1987</td>\n",
       "      <td>0</td>\n",
       "      <td>N</td>\n",
       "      <td>PROFESSIONAL STANDARDS BUREAU</td>\n",
       "      <td>TRAINING AND EDUCATION SECTION</td>\n",
       "      <td>TRAINING - FIELD TRAINING SQUAD</td>\n",
       "      <td>North</td>\n",
       "      <td>JOHN</td>\n",
       "      <td>J1</td>\n",
       "    </tr>\n",
       "    <tr>\n",
       "      <th>18</th>\n",
       "      <td>43832</td>\n",
       "      <td>2015-05-16</td>\n",
       "      <td>2022-10-12 01:24:00</td>\n",
       "      <td>2015-05-16 10:14:07</td>\n",
       "      <td>911</td>\n",
       "      <td>DISTURBANCE, MISCELLANEOUS/OTHER</td>\n",
       "      <td>--DISTURBANCE - OTHER</td>\n",
       "      <td>Resources Declined</td>\n",
       "      <td>N</td>\n",
       "      <td>N</td>\n",
       "      <td>N</td>\n",
       "      <td>N</td>\n",
       "      <td>Y</td>\n",
       "      <td>7634</td>\n",
       "      <td>M</td>\n",
       "      <td>White</td>\n",
       "      <td>1977</td>\n",
       "      <td>2</td>\n",
       "      <td>N</td>\n",
       "      <td>OPERATIONS BUREAU</td>\n",
       "      <td>EAST PCT</td>\n",
       "      <td>EAST PCT 1ST W - E/G RELIEF (CHARLIE)</td>\n",
       "      <td>East</td>\n",
       "      <td>CHARLIE</td>\n",
       "      <td>C3</td>\n",
       "    </tr>\n",
       "    <tr>\n",
       "      <th>19</th>\n",
       "      <td>43897</td>\n",
       "      <td>2015-05-16</td>\n",
       "      <td>2022-10-12 03:52:00</td>\n",
       "      <td>1900-01-01 00:00:00</td>\n",
       "      <td>None</td>\n",
       "      <td>None</td>\n",
       "      <td>None</td>\n",
       "      <td>Mobile Crisis Team</td>\n",
       "      <td>N</td>\n",
       "      <td>N</td>\n",
       "      <td>Y</td>\n",
       "      <td>Y</td>\n",
       "      <td>Y</td>\n",
       "      <td>4980</td>\n",
       "      <td>F</td>\n",
       "      <td>White</td>\n",
       "      <td>1962</td>\n",
       "      <td>30</td>\n",
       "      <td>N</td>\n",
       "      <td>NaN</td>\n",
       "      <td>NaN</td>\n",
       "      <td>NaN</td>\n",
       "      <td>None</td>\n",
       "      <td>None</td>\n",
       "      <td>None</td>\n",
       "    </tr>\n",
       "  </tbody>\n",
       "</table>\n",
       "</div>"
      ],
      "text/plain": [
       "    Template ID Reported Date       Reported Time Occurred Date / Time  \\\n",
       "15        44102    2015-05-16 2022-10-12 11:30:00  1900-01-01 00:00:00   \n",
       "16        43982    2015-05-16 2022-10-12 11:07:00  2015-05-16 22:50:33   \n",
       "17        43719    2015-05-16 2022-10-12 05:58:00  2015-05-16 03:15:18   \n",
       "18        43832    2015-05-16 2022-10-12 01:24:00  2015-05-16 10:14:07   \n",
       "19        43897    2015-05-16 2022-10-12 03:52:00  1900-01-01 00:00:00   \n",
       "\n",
       "                   Call Type                               Initial Call Type  \\\n",
       "15                      None                                            None   \n",
       "16  TELEPHONE OTHER, NOT 911                         SERVICE - WELFARE CHECK   \n",
       "17  TELEPHONE OTHER, NOT 911  UNKNOWN - ANI/ALI - WRLS PHNS (INCL OPEN LINE)   \n",
       "18                       911                DISTURBANCE, MISCELLANEOUS/OTHER   \n",
       "19                      None                                            None   \n",
       "\n",
       "                 Final Call Type               Disposition  \\\n",
       "15                          None       Voluntary Committal   \n",
       "16  --CRISIS COMPLAINT - GENERAL  Emergent Detention / ITA   \n",
       "17  --CRISIS COMPLAINT - GENERAL         Unable to Contact   \n",
       "18         --DISTURBANCE - OTHER        Resources Declined   \n",
       "19                          None        Mobile Crisis Team   \n",
       "\n",
       "   Use of Force Indicator Subject Veteran Indicator CIT Officer Requested  \\\n",
       "15                      N                         N                     N   \n",
       "16                      N                         N                     N   \n",
       "17                      N                         N                     Y   \n",
       "18                      N                         N                     N   \n",
       "19                      N                         N                     Y   \n",
       "\n",
       "   CIT Officer Dispatched CIT Officer Arrived Officer ID Officer Gender  \\\n",
       "15                      N                   Y       7685              M   \n",
       "16                      N                   Y       7402              M   \n",
       "17                      Y                   Y       7787              M   \n",
       "18                      N                   Y       7634              M   \n",
       "19                      Y                   Y       4980              F   \n",
       "\n",
       "   Officer Race  Officer Year of Birth  Officer Years of Experience  \\\n",
       "15        White                   1973                            3   \n",
       "16        White                   1973                           15   \n",
       "17        White                   1987                            0   \n",
       "18        White                   1977                            2   \n",
       "19        White                   1962                           30   \n",
       "\n",
       "   CIT Certified Indicator            Officer Bureau Desc  \\\n",
       "15                       N                            NaN   \n",
       "16                       N              OPERATIONS BUREAU   \n",
       "17                       N  PROFESSIONAL STANDARDS BUREAU   \n",
       "18                       N              OPERATIONS BUREAU   \n",
       "19                       N                            NaN   \n",
       "\n",
       "             Officer Precinct Desc                     Officer Squad Desc  \\\n",
       "15                             NaN                                    NaN   \n",
       "16                        EAST PCT                EAST PCT 3RD W - EDWARD   \n",
       "17  TRAINING AND EDUCATION SECTION        TRAINING - FIELD TRAINING SQUAD   \n",
       "18                        EAST PCT  EAST PCT 1ST W - E/G RELIEF (CHARLIE)   \n",
       "19                             NaN                                    NaN   \n",
       "\n",
       "   Precinct   Sector  Beat  \n",
       "15     None     None  None  \n",
       "16     East   EDWARD    E1  \n",
       "17    North     JOHN    J1  \n",
       "18     East  CHARLIE    C3  \n",
       "19     None     None  None  "
      ]
     },
     "execution_count": 12,
     "metadata": {},
     "output_type": "execute_result"
    }
   ],
   "source": [
    "dtypes = {\n",
    "    'Template ID': 'int64',\n",
    "    'Call Type': 'category',\n",
    "    'Initial Call Type': 'category',\n",
    "    'Final Call Type': 'category',\n",
    "    'Disposition': 'category',\n",
    "    'Use of Force Indicator': 'category',\n",
    "    'Subject Veteran Indicator': 'category',\n",
    "    'CIT Officer Requested': 'category',\n",
    "    'CIT Officer Dispatched': 'category',\n",
    "    'CIT Officer Arrived': 'category',\n",
    "    'Officer ID': 'category',\n",
    "    'Officer Gender': 'category',\n",
    "    'Officer Race': 'category',\n",
    "    'Officer Year of Birth': 'int16', \n",
    "    'Officer Years of Experience': 'int8', \n",
    "    'CIT Certified Indicator': 'category',\n",
    "    'Officer Bureau Desc': 'category',\n",
    "    'Officer Precinct Desc': 'category',\n",
    "    'Officer Squad Desc': 'category',\n",
    "    'Precinct': 'category',\n",
    "    'Sector': 'category',\n",
    "    'Beat': 'category',\n",
    "}\n",
    "date_cols = ['Reported Date', 'Reported Time', 'Occurred Date / Time']\n",
    "\n",
    "df = pd.read_csv('../Datasets/Crisis_Data.csv', dtype=dtypes, parse_dates=date_cols)\n",
    "df.replace({'-': None}, inplace=True)\n",
    "df.iloc[15:20]"
   ]
  },
  {
   "cell_type": "code",
   "execution_count": 13,
   "id": "84cb6ef2-8681-4640-87fb-4937b8afcbe7",
   "metadata": {},
   "outputs": [
    {
     "name": "stdout",
     "output_type": "stream",
     "text": [
      "<class 'pandas.core.frame.DataFrame'>\n",
      "RangeIndex: 75082 entries, 0 to 75081\n",
      "Data columns (total 25 columns):\n",
      " #   Column                       Non-Null Count  Dtype         \n",
      "---  ------                       --------------  -----         \n",
      " 0   Template ID                  75082 non-null  int64         \n",
      " 1   Reported Date                75082 non-null  datetime64[ns]\n",
      " 2   Reported Time                75082 non-null  datetime64[ns]\n",
      " 3   Occurred Date / Time         75082 non-null  datetime64[ns]\n",
      " 4   Call Type                    69482 non-null  object        \n",
      " 5   Initial Call Type            69482 non-null  object        \n",
      " 6   Final Call Type              69482 non-null  object        \n",
      " 7   Disposition                  73463 non-null  object        \n",
      " 8   Use of Force Indicator       75082 non-null  category      \n",
      " 9   Subject Veteran Indicator    75081 non-null  object        \n",
      " 10  CIT Officer Requested        75082 non-null  category      \n",
      " 11  CIT Officer Dispatched       75082 non-null  category      \n",
      " 12  CIT Officer Arrived          75082 non-null  category      \n",
      " 13  Officer ID                   75053 non-null  object        \n",
      " 14  Officer Gender               75082 non-null  category      \n",
      " 15  Officer Race                 75082 non-null  category      \n",
      " 16  Officer Year of Birth        75082 non-null  int16         \n",
      " 17  Officer Years of Experience  75082 non-null  int8          \n",
      " 18  CIT Certified Indicator      75082 non-null  category      \n",
      " 19  Officer Bureau Desc          69254 non-null  category      \n",
      " 20  Officer Precinct Desc        68885 non-null  category      \n",
      " 21  Officer Squad Desc           69271 non-null  category      \n",
      " 22  Precinct                     69023 non-null  object        \n",
      " 23  Sector                       68995 non-null  object        \n",
      " 24  Beat                         69027 non-null  object        \n",
      "dtypes: category(10), datetime64[ns](3), int16(1), int64(1), int8(1), object(9)\n",
      "memory usage: 46.4 MB\n"
     ]
    }
   ],
   "source": [
    "df.info(memory_usage='deep')"
   ]
  },
  {
   "cell_type": "markdown",
   "id": "34438516-11bb-4ed3-83a2-28053f2b555d",
   "metadata": {},
   "source": [
    "## Use of Force Dataset\n",
    "### Exploration"
   ]
  },
  {
   "cell_type": "code",
   "execution_count": 14,
   "id": "f5cf6a67-ce4f-4f7c-a3c0-69974adb2c03",
   "metadata": {},
   "outputs": [
    {
     "name": "stdout",
     "output_type": "stream",
     "text": [
      "<class 'pandas.core.frame.DataFrame'>\n",
      "RangeIndex: 14667 entries, 0 to 14666\n",
      "Data columns (total 11 columns):\n",
      " #   Column             Non-Null Count  Dtype \n",
      "---  ------             --------------  ----- \n",
      " 0   uniqueid           14667 non-null  object\n",
      " 1   incident_num       14667 non-null  int64 \n",
      " 2   incident_type      14667 non-null  object\n",
      " 3   occured_date_time  14667 non-null  object\n",
      " 4   precinct           14667 non-null  object\n",
      " 5   sector             13557 non-null  object\n",
      " 6   beat               14667 non-null  object\n",
      " 7   officer_id         14667 non-null  int64 \n",
      " 8   subject_id         14667 non-null  int64 \n",
      " 9   subject_race       14667 non-null  object\n",
      " 10  subject_gender     14667 non-null  object\n",
      "dtypes: int64(3), object(8)\n",
      "memory usage: 1.2+ MB\n"
     ]
    }
   ],
   "source": [
    "import pandas as pd\n",
    "pd.set_option('display.max_columns', None)\n",
    "df = pd.read_csv('https://data.seattle.gov/resource/ppi5-g2bj.csv?$limit=100000')\n",
    "df.info()"
   ]
  },
  {
   "cell_type": "code",
   "execution_count": 15,
   "id": "d1c3392f-975f-4274-9a78-fbec36eb8224",
   "metadata": {},
   "outputs": [
    {
     "data": {
      "text/html": [
       "<div>\n",
       "<style scoped>\n",
       "    .dataframe tbody tr th:only-of-type {\n",
       "        vertical-align: middle;\n",
       "    }\n",
       "\n",
       "    .dataframe tbody tr th {\n",
       "        vertical-align: top;\n",
       "    }\n",
       "\n",
       "    .dataframe thead th {\n",
       "        text-align: right;\n",
       "    }\n",
       "</style>\n",
       "<table border=\"1\" class=\"dataframe\">\n",
       "  <thead>\n",
       "    <tr style=\"text-align: right;\">\n",
       "      <th></th>\n",
       "      <th>uniqueid</th>\n",
       "      <th>incident_num</th>\n",
       "      <th>incident_type</th>\n",
       "      <th>occured_date_time</th>\n",
       "      <th>precinct</th>\n",
       "      <th>sector</th>\n",
       "      <th>beat</th>\n",
       "      <th>officer_id</th>\n",
       "      <th>subject_id</th>\n",
       "      <th>subject_race</th>\n",
       "      <th>subject_gender</th>\n",
       "    </tr>\n",
       "  </thead>\n",
       "  <tbody>\n",
       "    <tr>\n",
       "      <th>0</th>\n",
       "      <td>2014UOF-0001-1377-203</td>\n",
       "      <td>251</td>\n",
       "      <td>Level 1 - Use of Force</td>\n",
       "      <td>2014-06-07T00:09:00.000</td>\n",
       "      <td>East</td>\n",
       "      <td>CHARLIE</td>\n",
       "      <td>C2</td>\n",
       "      <td>1594</td>\n",
       "      <td>203</td>\n",
       "      <td>Black or African American</td>\n",
       "      <td>Male</td>\n",
       "    </tr>\n",
       "    <tr>\n",
       "      <th>1</th>\n",
       "      <td>2014UOF-0002-1098-166</td>\n",
       "      <td>218</td>\n",
       "      <td>Level 1 - Use of Force</td>\n",
       "      <td>2014-05-30T14:06:00.000</td>\n",
       "      <td>East</td>\n",
       "      <td>GEORGE</td>\n",
       "      <td>G1</td>\n",
       "      <td>1673</td>\n",
       "      <td>166</td>\n",
       "      <td>White</td>\n",
       "      <td>Male</td>\n",
       "    </tr>\n",
       "    <tr>\n",
       "      <th>2</th>\n",
       "      <td>2014UOF-0003-1031-125</td>\n",
       "      <td>178</td>\n",
       "      <td>Level 1 - Use of Force</td>\n",
       "      <td>2014-05-23T17:24:00.000</td>\n",
       "      <td>West</td>\n",
       "      <td>KING</td>\n",
       "      <td>K3</td>\n",
       "      <td>1690</td>\n",
       "      <td>125</td>\n",
       "      <td>Asian</td>\n",
       "      <td>Female</td>\n",
       "    </tr>\n",
       "    <tr>\n",
       "      <th>3</th>\n",
       "      <td>2014UOF-0004-767-126</td>\n",
       "      <td>179</td>\n",
       "      <td>Level 1 - Use of Force</td>\n",
       "      <td>2014-05-26T00:10:00.000</td>\n",
       "      <td>East</td>\n",
       "      <td>EDWARD</td>\n",
       "      <td>E2</td>\n",
       "      <td>953</td>\n",
       "      <td>126</td>\n",
       "      <td>Black or African American</td>\n",
       "      <td>Male</td>\n",
       "    </tr>\n",
       "    <tr>\n",
       "      <th>4</th>\n",
       "      <td>2014UOF-0005-1473-172</td>\n",
       "      <td>223</td>\n",
       "      <td>Level 1 - Use of Force</td>\n",
       "      <td>2014-06-01T16:03:00.000</td>\n",
       "      <td>South</td>\n",
       "      <td>ROBERT</td>\n",
       "      <td>R1</td>\n",
       "      <td>1145</td>\n",
       "      <td>172</td>\n",
       "      <td>Black or African American</td>\n",
       "      <td>Male</td>\n",
       "    </tr>\n",
       "  </tbody>\n",
       "</table>\n",
       "</div>"
      ],
      "text/plain": [
       "                uniqueid  incident_num           incident_type  \\\n",
       "0  2014UOF-0001-1377-203           251  Level 1 - Use of Force   \n",
       "1  2014UOF-0002-1098-166           218  Level 1 - Use of Force   \n",
       "2  2014UOF-0003-1031-125           178  Level 1 - Use of Force   \n",
       "3   2014UOF-0004-767-126           179  Level 1 - Use of Force   \n",
       "4  2014UOF-0005-1473-172           223  Level 1 - Use of Force   \n",
       "\n",
       "         occured_date_time precinct   sector beat  officer_id  subject_id  \\\n",
       "0  2014-06-07T00:09:00.000     East  CHARLIE   C2        1594         203   \n",
       "1  2014-05-30T14:06:00.000     East   GEORGE   G1        1673         166   \n",
       "2  2014-05-23T17:24:00.000     West     KING   K3        1690         125   \n",
       "3  2014-05-26T00:10:00.000     East   EDWARD   E2         953         126   \n",
       "4  2014-06-01T16:03:00.000    South   ROBERT   R1        1145         172   \n",
       "\n",
       "                subject_race subject_gender  \n",
       "0  Black or African American           Male  \n",
       "1                      White           Male  \n",
       "2                      Asian         Female  \n",
       "3  Black or African American           Male  \n",
       "4  Black or African American           Male  "
      ]
     },
     "execution_count": 15,
     "metadata": {},
     "output_type": "execute_result"
    }
   ],
   "source": [
    "df.head()"
   ]
  },
  {
   "cell_type": "code",
   "execution_count": 16,
   "id": "0a95befe-4f9c-4a13-b542-f0256108b62d",
   "metadata": {},
   "outputs": [
    {
     "data": {
      "text/plain": [
       "Level 1 - Use of Force    10443\n",
       "Level 2 - Use of Force     3986\n",
       "Level 3 - Use of Force      130\n",
       "Level 3 - OIS               108\n",
       "Name: incident_type, dtype: int64"
      ]
     },
     "execution_count": 16,
     "metadata": {},
     "output_type": "execute_result"
    }
   ],
   "source": [
    "df['incident_type'].value_counts()"
   ]
  },
  {
   "cell_type": "code",
   "execution_count": 17,
   "id": "25b04353-49df-4a95-9376-628c85d4f0e0",
   "metadata": {},
   "outputs": [
    {
     "data": {
      "text/plain": [
       "West         4140\n",
       "North        3274\n",
       "East         2873\n",
       "South        2437\n",
       "Southwest     833\n",
       "-             719\n",
       "X             371\n",
       "0              12\n",
       "OOJ             8\n",
       "Name: precinct, dtype: int64"
      ]
     },
     "execution_count": 17,
     "metadata": {},
     "output_type": "execute_result"
    }
   ],
   "source": [
    "df['precinct'].value_counts()"
   ]
  },
  {
   "cell_type": "markdown",
   "id": "487e235c-f5d9-4cf2-a728-63c9a3e4d4c0",
   "metadata": {},
   "source": [
    "It looks like nearly 10% of the entries are missing a precinct. Let's see if they are missing other data. "
   ]
  },
  {
   "cell_type": "code",
   "execution_count": 18,
   "id": "c5abfb9f-3530-468d-8453-25413d327feb",
   "metadata": {},
   "outputs": [
    {
     "data": {
      "text/html": [
       "<div>\n",
       "<style scoped>\n",
       "    .dataframe tbody tr th:only-of-type {\n",
       "        vertical-align: middle;\n",
       "    }\n",
       "\n",
       "    .dataframe tbody tr th {\n",
       "        vertical-align: top;\n",
       "    }\n",
       "\n",
       "    .dataframe thead th {\n",
       "        text-align: right;\n",
       "    }\n",
       "</style>\n",
       "<table border=\"1\" class=\"dataframe\">\n",
       "  <thead>\n",
       "    <tr style=\"text-align: right;\">\n",
       "      <th></th>\n",
       "      <th>uniqueid</th>\n",
       "      <th>incident_num</th>\n",
       "      <th>incident_type</th>\n",
       "      <th>occured_date_time</th>\n",
       "      <th>precinct</th>\n",
       "      <th>sector</th>\n",
       "      <th>beat</th>\n",
       "      <th>officer_id</th>\n",
       "      <th>subject_id</th>\n",
       "      <th>subject_race</th>\n",
       "      <th>subject_gender</th>\n",
       "    </tr>\n",
       "  </thead>\n",
       "  <tbody>\n",
       "    <tr>\n",
       "      <th>50</th>\n",
       "      <td>2014UOF-0053-627-522</td>\n",
       "      <td>553</td>\n",
       "      <td>Level 1 - Use of Force</td>\n",
       "      <td>2014-07-19T16:44:00.000</td>\n",
       "      <td>X</td>\n",
       "      <td>NaN</td>\n",
       "      <td>XX</td>\n",
       "      <td>913</td>\n",
       "      <td>520</td>\n",
       "      <td>Black or African American</td>\n",
       "      <td>Male</td>\n",
       "    </tr>\n",
       "    <tr>\n",
       "      <th>76</th>\n",
       "      <td>2014UOF-0076-375-389</td>\n",
       "      <td>439</td>\n",
       "      <td>Level 1 - Use of Force</td>\n",
       "      <td>2014-07-09T06:02:00.000</td>\n",
       "      <td>X</td>\n",
       "      <td>NaN</td>\n",
       "      <td>XX</td>\n",
       "      <td>302</td>\n",
       "      <td>388</td>\n",
       "      <td>White</td>\n",
       "      <td>Female</td>\n",
       "    </tr>\n",
       "    <tr>\n",
       "      <th>79</th>\n",
       "      <td>2014UOF-0080-1010-336</td>\n",
       "      <td>376</td>\n",
       "      <td>Level 1 - Use of Force</td>\n",
       "      <td>2014-07-01T06:00:00.000</td>\n",
       "      <td>X</td>\n",
       "      <td>NaN</td>\n",
       "      <td>XX</td>\n",
       "      <td>1220</td>\n",
       "      <td>335</td>\n",
       "      <td>White</td>\n",
       "      <td>Male</td>\n",
       "    </tr>\n",
       "    <tr>\n",
       "      <th>82</th>\n",
       "      <td>2014UOF-0083-1119-435</td>\n",
       "      <td>480</td>\n",
       "      <td>Level 1 - Use of Force</td>\n",
       "      <td>2014-07-12T11:20:00.000</td>\n",
       "      <td>X</td>\n",
       "      <td>NaN</td>\n",
       "      <td>XX</td>\n",
       "      <td>1800</td>\n",
       "      <td>434</td>\n",
       "      <td>Not Specified</td>\n",
       "      <td>Male</td>\n",
       "    </tr>\n",
       "    <tr>\n",
       "      <th>153</th>\n",
       "      <td>2014UOF-0154-1528-596</td>\n",
       "      <td>620</td>\n",
       "      <td>Level 1 - Use of Force</td>\n",
       "      <td>2014-07-23T22:12:00.000</td>\n",
       "      <td>X</td>\n",
       "      <td>NaN</td>\n",
       "      <td>XX</td>\n",
       "      <td>1180</td>\n",
       "      <td>594</td>\n",
       "      <td>Black or African American</td>\n",
       "      <td>Female</td>\n",
       "    </tr>\n",
       "  </tbody>\n",
       "</table>\n",
       "</div>"
      ],
      "text/plain": [
       "                  uniqueid  incident_num           incident_type  \\\n",
       "50    2014UOF-0053-627-522           553  Level 1 - Use of Force   \n",
       "76    2014UOF-0076-375-389           439  Level 1 - Use of Force   \n",
       "79   2014UOF-0080-1010-336           376  Level 1 - Use of Force   \n",
       "82   2014UOF-0083-1119-435           480  Level 1 - Use of Force   \n",
       "153  2014UOF-0154-1528-596           620  Level 1 - Use of Force   \n",
       "\n",
       "           occured_date_time precinct sector beat  officer_id  subject_id  \\\n",
       "50   2014-07-19T16:44:00.000        X    NaN   XX         913         520   \n",
       "76   2014-07-09T06:02:00.000        X    NaN   XX         302         388   \n",
       "79   2014-07-01T06:00:00.000        X    NaN   XX        1220         335   \n",
       "82   2014-07-12T11:20:00.000        X    NaN   XX        1800         434   \n",
       "153  2014-07-23T22:12:00.000        X    NaN   XX        1180         594   \n",
       "\n",
       "                  subject_race subject_gender  \n",
       "50   Black or African American           Male  \n",
       "76                       White         Female  \n",
       "79                       White           Male  \n",
       "82               Not Specified           Male  \n",
       "153  Black or African American         Female  "
      ]
     },
     "execution_count": 18,
     "metadata": {},
     "output_type": "execute_result"
    }
   ],
   "source": [
    "df[(df['precinct'] == \"X\")][:5]"
   ]
  },
  {
   "cell_type": "markdown",
   "id": "67333ff1-1aa5-4f51-a40b-ebb133940778",
   "metadata": {},
   "source": [
    "There is enough data in these rows to be usefull for analysis, so we will keep them. "
   ]
  },
  {
   "cell_type": "markdown",
   "id": "d8bceea1-2dc8-442a-9004-57e28eb5a005",
   "metadata": {
    "tags": []
   },
   "source": [
    "# SPD Crime Data\n",
    "## Exploration"
   ]
  },
  {
   "cell_type": "code",
   "execution_count": 19,
   "id": "77c63bf9-1771-4000-a12b-0c96cd58dfb5",
   "metadata": {},
   "outputs": [
    {
     "name": "stdout",
     "output_type": "stream",
     "text": [
      "<class 'pandas.core.frame.DataFrame'>\n",
      "RangeIndex: 1007829 entries, 0 to 1007828\n",
      "Data columns (total 17 columns):\n",
      " #   Column                  Non-Null Count    Dtype         \n",
      "---  ------                  --------------    -----         \n",
      " 0   report_number           1007829 non-null  object        \n",
      " 1   offense_id              1007829 non-null  int64         \n",
      " 2   offense_start_datetime  1006744 non-null  datetime64[ns]\n",
      " 3   offense_end_datetime    563118 non-null   object        \n",
      " 4   report_datetime         1007829 non-null  datetime64[ns]\n",
      " 5   group_a_b               1007829 non-null  object        \n",
      " 6   crime_against_category  1007829 non-null  object        \n",
      " 7   offense_parent_group    1007829 non-null  object        \n",
      " 8   offense                 1007829 non-null  object        \n",
      " 9   offense_code            1007829 non-null  object        \n",
      " 10  precinct                1007825 non-null  object        \n",
      " 11  sector                  1007827 non-null  object        \n",
      " 12  beat                    1007827 non-null  object        \n",
      " 13  mcpp                    1007829 non-null  object        \n",
      " 14  _100_block_address      965802 non-null   object        \n",
      " 15  longitude               1007829 non-null  float64       \n",
      " 16  latitude                1007829 non-null  float64       \n",
      "dtypes: datetime64[ns](2), float64(2), int64(1), object(12)\n",
      "memory usage: 130.7+ MB\n"
     ]
    }
   ],
   "source": [
    "import pandas as pd\n",
    "pd.set_option('display.max_columns', None)\n",
    "df = pd.read_csv('https://data.seattle.gov/resource/tazs-3rd5.csv?$limit=1500000', parse_dates=['offense_start_datetime', 'report_datetime'])\n",
    "df.info()"
   ]
  },
  {
   "cell_type": "code",
   "execution_count": 20,
   "id": "97bdc907-3fb7-4574-b9f7-db9761b79043",
   "metadata": {
    "tags": []
   },
   "outputs": [
    {
     "data": {
      "text/html": [
       "<div>\n",
       "<style scoped>\n",
       "    .dataframe tbody tr th:only-of-type {\n",
       "        vertical-align: middle;\n",
       "    }\n",
       "\n",
       "    .dataframe tbody tr th {\n",
       "        vertical-align: top;\n",
       "    }\n",
       "\n",
       "    .dataframe thead th {\n",
       "        text-align: right;\n",
       "    }\n",
       "</style>\n",
       "<table border=\"1\" class=\"dataframe\">\n",
       "  <thead>\n",
       "    <tr style=\"text-align: right;\">\n",
       "      <th></th>\n",
       "      <th>report_number</th>\n",
       "      <th>offense_id</th>\n",
       "      <th>offense_start_datetime</th>\n",
       "      <th>offense_end_datetime</th>\n",
       "      <th>report_datetime</th>\n",
       "      <th>group_a_b</th>\n",
       "      <th>crime_against_category</th>\n",
       "      <th>offense_parent_group</th>\n",
       "      <th>offense</th>\n",
       "      <th>offense_code</th>\n",
       "      <th>precinct</th>\n",
       "      <th>sector</th>\n",
       "      <th>beat</th>\n",
       "      <th>mcpp</th>\n",
       "      <th>_100_block_address</th>\n",
       "      <th>longitude</th>\n",
       "      <th>latitude</th>\n",
       "    </tr>\n",
       "  </thead>\n",
       "  <tbody>\n",
       "    <tr>\n",
       "      <th>0</th>\n",
       "      <td>2020-044620</td>\n",
       "      <td>12605873663</td>\n",
       "      <td>2020-02-05 10:10:00</td>\n",
       "      <td>NaN</td>\n",
       "      <td>2020-02-05 11:24:31</td>\n",
       "      <td>A</td>\n",
       "      <td>SOCIETY</td>\n",
       "      <td>DRUG/NARCOTIC OFFENSES</td>\n",
       "      <td>Drug/Narcotic Violations</td>\n",
       "      <td>35A</td>\n",
       "      <td>W</td>\n",
       "      <td>Q</td>\n",
       "      <td>Q1</td>\n",
       "      <td>MAGNOLIA</td>\n",
       "      <td>32XX BLOCK OF 23RD AVE W</td>\n",
       "      <td>-122.385974</td>\n",
       "      <td>47.649387</td>\n",
       "    </tr>\n",
       "    <tr>\n",
       "      <th>1</th>\n",
       "      <td>2020-044452</td>\n",
       "      <td>12605598696</td>\n",
       "      <td>2020-02-03 08:00:00</td>\n",
       "      <td>2020-02-04T08:00:00.000</td>\n",
       "      <td>2020-02-05 10:06:28</td>\n",
       "      <td>A</td>\n",
       "      <td>PROPERTY</td>\n",
       "      <td>LARCENY-THEFT</td>\n",
       "      <td>Theft of Motor Vehicle Parts or Accessories</td>\n",
       "      <td>23G</td>\n",
       "      <td>N</td>\n",
       "      <td>J</td>\n",
       "      <td>J3</td>\n",
       "      <td>ROOSEVELT/RAVENNA</td>\n",
       "      <td>63XX BLOCK OF 5TH AVE NE</td>\n",
       "      <td>-122.323399</td>\n",
       "      <td>47.675118</td>\n",
       "    </tr>\n",
       "    <tr>\n",
       "      <th>2</th>\n",
       "      <td>2020-044465</td>\n",
       "      <td>12605567653</td>\n",
       "      <td>2020-02-02 20:30:00</td>\n",
       "      <td>2020-02-02T21:30:00.000</td>\n",
       "      <td>2020-02-05 09:39:33</td>\n",
       "      <td>A</td>\n",
       "      <td>PROPERTY</td>\n",
       "      <td>ROBBERY</td>\n",
       "      <td>Robbery</td>\n",
       "      <td>120</td>\n",
       "      <td>N</td>\n",
       "      <td>U</td>\n",
       "      <td>U3</td>\n",
       "      <td>ROOSEVELT/RAVENNA</td>\n",
       "      <td>26TH AVE NE / NE BLAKELEY ST</td>\n",
       "      <td>-122.299552</td>\n",
       "      <td>47.666384</td>\n",
       "    </tr>\n",
       "    <tr>\n",
       "      <th>3</th>\n",
       "      <td>2020-044225</td>\n",
       "      <td>12605174036</td>\n",
       "      <td>2020-02-05 01:17:00</td>\n",
       "      <td>2020-02-05T02:21:00.000</td>\n",
       "      <td>2020-02-05 03:30:55</td>\n",
       "      <td>A</td>\n",
       "      <td>PROPERTY</td>\n",
       "      <td>DESTRUCTION/DAMAGE/VANDALISM OF PROPERTY</td>\n",
       "      <td>Destruction/Damage/Vandalism of Property</td>\n",
       "      <td>290</td>\n",
       "      <td>W</td>\n",
       "      <td>Q</td>\n",
       "      <td>Q1</td>\n",
       "      <td>MAGNOLIA</td>\n",
       "      <td>22XX BLOCK OF W RAYE ST</td>\n",
       "      <td>-122.384865</td>\n",
       "      <td>47.642927</td>\n",
       "    </tr>\n",
       "    <tr>\n",
       "      <th>4</th>\n",
       "      <td>2020-044076</td>\n",
       "      <td>12605081469</td>\n",
       "      <td>2020-02-05 00:51:21</td>\n",
       "      <td>NaN</td>\n",
       "      <td>2020-02-05 00:51:31</td>\n",
       "      <td>B</td>\n",
       "      <td>SOCIETY</td>\n",
       "      <td>DRIVING UNDER THE INFLUENCE</td>\n",
       "      <td>Driving Under the Influence</td>\n",
       "      <td>90D</td>\n",
       "      <td>N</td>\n",
       "      <td>B</td>\n",
       "      <td>B2</td>\n",
       "      <td>BALLARD SOUTH</td>\n",
       "      <td>NW 46TH ST / 8TH AVE NW</td>\n",
       "      <td>-122.366195</td>\n",
       "      <td>47.662193</td>\n",
       "    </tr>\n",
       "  </tbody>\n",
       "</table>\n",
       "</div>"
      ],
      "text/plain": [
       "  report_number   offense_id offense_start_datetime     offense_end_datetime  \\\n",
       "0   2020-044620  12605873663    2020-02-05 10:10:00                      NaN   \n",
       "1   2020-044452  12605598696    2020-02-03 08:00:00  2020-02-04T08:00:00.000   \n",
       "2   2020-044465  12605567653    2020-02-02 20:30:00  2020-02-02T21:30:00.000   \n",
       "3   2020-044225  12605174036    2020-02-05 01:17:00  2020-02-05T02:21:00.000   \n",
       "4   2020-044076  12605081469    2020-02-05 00:51:21                      NaN   \n",
       "\n",
       "      report_datetime group_a_b crime_against_category  \\\n",
       "0 2020-02-05 11:24:31         A                SOCIETY   \n",
       "1 2020-02-05 10:06:28         A               PROPERTY   \n",
       "2 2020-02-05 09:39:33         A               PROPERTY   \n",
       "3 2020-02-05 03:30:55         A               PROPERTY   \n",
       "4 2020-02-05 00:51:31         B                SOCIETY   \n",
       "\n",
       "                       offense_parent_group  \\\n",
       "0                    DRUG/NARCOTIC OFFENSES   \n",
       "1                             LARCENY-THEFT   \n",
       "2                                   ROBBERY   \n",
       "3  DESTRUCTION/DAMAGE/VANDALISM OF PROPERTY   \n",
       "4               DRIVING UNDER THE INFLUENCE   \n",
       "\n",
       "                                       offense offense_code precinct sector  \\\n",
       "0                     Drug/Narcotic Violations          35A        W      Q   \n",
       "1  Theft of Motor Vehicle Parts or Accessories          23G        N      J   \n",
       "2                                      Robbery          120        N      U   \n",
       "3     Destruction/Damage/Vandalism of Property          290        W      Q   \n",
       "4                  Driving Under the Influence          90D        N      B   \n",
       "\n",
       "  beat               mcpp            _100_block_address   longitude   latitude  \n",
       "0   Q1           MAGNOLIA      32XX BLOCK OF 23RD AVE W -122.385974  47.649387  \n",
       "1   J3  ROOSEVELT/RAVENNA      63XX BLOCK OF 5TH AVE NE -122.323399  47.675118  \n",
       "2   U3  ROOSEVELT/RAVENNA  26TH AVE NE / NE BLAKELEY ST -122.299552  47.666384  \n",
       "3   Q1           MAGNOLIA       22XX BLOCK OF W RAYE ST -122.384865  47.642927  \n",
       "4   B2      BALLARD SOUTH       NW 46TH ST / 8TH AVE NW -122.366195  47.662193  "
      ]
     },
     "execution_count": 20,
     "metadata": {},
     "output_type": "execute_result"
    }
   ],
   "source": [
    "df.head()"
   ]
  },
  {
   "cell_type": "code",
   "execution_count": 21,
   "id": "05a5f52d-147b-4a0e-bebc-a1d236efa499",
   "metadata": {
    "tags": []
   },
   "outputs": [
    {
     "data": {
      "text/plain": [
       "DOWNTOWN COMMERCIAL                 83036\n",
       "CAPITOL HILL                        61537\n",
       "NORTHGATE                           57311\n",
       "QUEEN ANNE                          51047\n",
       "SLU/CASCADE                         44619\n",
       "UNIVERSITY                          39822\n",
       "ROOSEVELT/RAVENNA                   35986\n",
       "BALLARD SOUTH                       31887\n",
       "FIRST HILL                          30509\n",
       "LAKECITY                            28012\n",
       "BELLTOWN                            27418\n",
       "CHINATOWN/INTERNATIONAL DISTRICT    27165\n",
       "CENTRAL AREA/SQUIRE PARK            25873\n",
       "GREENWOOD                           21965\n",
       "SANDPOINT                           21550\n",
       "BALLARD NORTH                       20760\n",
       "BITTERLAKE                          20045\n",
       "FREMONT                             18780\n",
       "WALLINGFORD                         18609\n",
       "NORTH BEACON HILL                   17809\n",
       "PIONEER SQUARE                      17149\n",
       "SODO                                17090\n",
       "MAGNOLIA                            15883\n",
       "ROXHILL/WESTWOOD/ARBOR HEIGHTS      15580\n",
       "BRIGHTON/DUNLAP                     14549\n",
       "ALASKA JUNCTION                     14295\n",
       "MOUNT BAKER                         14073\n",
       "GEORGETOWN                          13012\n",
       "MADRONA/LESCHI                      12784\n",
       "HIGHLAND PARK                       11523\n",
       "MID BEACON HILL                     10990\n",
       "RAINIER BEACH                       10950\n",
       "NORTH ADMIRAL                        9769\n",
       "RAINIER VIEW                         9752\n",
       "MORGAN                               8906\n",
       "JUDKINS PARK/NORTH BEACON HILL       8860\n",
       "SOUTH PARK                           8579\n",
       "UNKNOWN                              8565\n",
       "PHINNEY RIDGE                        8434\n",
       "HIGH POINT                           8430\n",
       "NORTH DELRIDGE                       7763\n",
       "MILLER PARK                          6694\n",
       "MONTLAKE/PORTAGE BAY                 6679\n",
       "COLUMBIA CITY                        6527\n",
       "EASTLAKE - WEST                      6435\n",
       "NEW HOLLY                            6178\n",
       "CLAREMONT/RAINIER VISTA              5820\n",
       "LAKEWOOD/SEWARD PARK                 5485\n",
       "ALKI                                 5160\n",
       "HILLMAN CITY                         4989\n",
       "SOUTH BEACON HILL                    4480\n",
       "FAUNTLEROY SW                        4278\n",
       "SOUTH DELRIDGE                       4118\n",
       "MADISON PARK                         3378\n",
       "GENESEE                              3070\n",
       "EASTLAKE - EAST                      1551\n",
       "PIGEON POINT                         1252\n",
       "COMMERCIAL DUWAMISH                   690\n",
       "COMMERCIAL HARBOR ISLAND              367\n",
       "CAPTIOL HILL                            1\n",
       "<Null>                                  1\n",
       "Name: mcpp, dtype: int64"
      ]
     },
     "execution_count": 21,
     "metadata": {},
     "output_type": "execute_result"
    }
   ],
   "source": [
    "df['mcpp'].value_counts()\n"
   ]
  },
  {
   "cell_type": "markdown",
   "id": "66fbc960-abad-4fbe-aa72-7180d5b458db",
   "metadata": {},
   "source": [
    "Let's fix this spelling error and normalize the unknown data in this column."
   ]
  },
  {
   "cell_type": "code",
   "execution_count": 22,
   "id": "2279fcaa-2ed2-468e-80e0-75a242385afe",
   "metadata": {},
   "outputs": [],
   "source": [
    "df['mcpp'].replace({'CAPTIOL HILL': 'CAPITOL HILL', '<Null>': 'UNKNOWN'}, inplace=True)"
   ]
  },
  {
   "cell_type": "markdown",
   "id": "9a8957d1-d52b-485f-9ac8-4141a5b9d0bd",
   "metadata": {},
   "source": [
    "Let's visualize the distribution of crime reports in each Micro-Community Policing Plan (MCPP)."
   ]
  },
  {
   "cell_type": "code",
   "execution_count": 23,
   "id": "2ba07a15-99de-4a06-a176-ef543974547e",
   "metadata": {
    "tags": []
   },
   "outputs": [
    {
     "data": {
      "text/plain": [
       "<AxesSubplot:>"
      ]
     },
     "execution_count": 23,
     "metadata": {},
     "output_type": "execute_result"
    },
    {
     "data": {
      "image/png": "[encoded data removed]",
      "text/plain": [
       "<Figure size 1296x432 with 1 Axes>"
      ]
     },
     "metadata": {
      "needs_background": "light"
     },
     "output_type": "display_data"
    }
   ],
   "source": [
    "df['mcpp'].value_counts().plot.bar(stacked=True, figsize=(18, 6))"
   ]
  },
  {
   "cell_type": "markdown",
   "id": "a8313c87-205d-44c3-9e57-0a3bb6ce7527",
   "metadata": {},
   "source": [
    "Let's try to visualize the change in crime over time on a per-neighborhood basis. We can count the crime reports per year and plot the totals over year. To start we'll add a `year` column to the dataset."
   ]
  },
  {
   "cell_type": "code",
   "execution_count": 24,
   "id": "b15cc329-2219-4b36-97ef-6fd173c66a52",
   "metadata": {},
   "outputs": [],
   "source": [
    "df['year'] = df['offense_start_datetime'].dt.year\n",
    "df = df[(df['year'] > 2005)]\n",
    "# df.year.hist(by=df['mcpp'], grid=False, rwidth=.9, figsize=(24, 12))"
   ]
  },
  {
   "cell_type": "code",
   "execution_count": 25,
   "id": "07cd53b3-58b9-4c58-8d52-5b751061b0e8",
   "metadata": {},
   "outputs": [
    {
     "data": {
      "text/plain": [
       "<AxesSubplot:>"
      ]
     },
     "execution_count": 25,
     "metadata": {},
     "output_type": "execute_result"
    },
    {
     "data": {
      "image/png": "[encoded data removed]",
      "text/plain": [
       "<Figure size 1296x432 with 1 Axes>"
      ]
     },
     "metadata": {
      "needs_background": "light"
     },
     "output_type": "display_data"
    }
   ],
   "source": [
    "df['year'][df['mcpp'] == 'CAPITOL HILL'].value_counts().sort_index(key=0).plot.line(figsize=(18, 6))"
   ]
  },
  {
   "cell_type": "code",
   "execution_count": null,
   "id": "c4d1ab74-680a-41a6-9483-ca7fc2fc9c99",
   "metadata": {},
   "outputs": [],
   "source": []
  }
 ],
 "metadata": {
  "kernelspec": {
   "display_name": "Python 3 (ipykernel)",
   "language": "python",
   "name": "python3"
  },
  "language_info": {
   "codemirror_mode": {
    "name": "ipython",
    "version": 3
   },
   "file_extension": ".py",
   "mimetype": "text/x-python",
   "name": "python",
   "nbconvert_exporter": "python",
   "pygments_lexer": "ipython3",
   "version": "3.8.10"
  }
 },
 "nbformat": 4,
 "nbformat_minor": 5
}
